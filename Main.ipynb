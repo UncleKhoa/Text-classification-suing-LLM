{
 "cells": [
  {
   "cell_type": "code",
   "execution_count": 2,
   "metadata": {},
   "outputs": [
    {
     "name": "stderr",
     "output_type": "stream",
     "text": [
      "c:\\Users\\BonNguyen\\anaconda3\\envs\\unclekhoa\\Lib\\site-packages\\tqdm\\auto.py:21: TqdmWarning: IProgress not found. Please update jupyter and ipywidgets. See https://ipywidgets.readthedocs.io/en/stable/user_install.html\n",
      "  from .autonotebook import tqdm as notebook_tqdm\n"
     ]
    }
   ],
   "source": [
    "import pandas as pd\n",
    "import os\n",
    "import seaborn as sns\n",
    "import matplotlib.pyplot as plt\n",
    "from nltk.tokenize import word_tokenize, RegexpTokenizer\n",
    "import torch\n",
    "import numpy as np\n",
    "\n",
    "from gensim.utils import simple_preprocess\n",
    "from sklearn.metrics import accuracy_score, precision_score, recall_score, f1_score, confusion_matrix, precision_recall_fscore_support, ConfusionMatrixDisplay, classification_report\n",
    "from tqdm import tqdm\n",
    "import torch.nn as nn\n",
    "from torch.optim import AdamW\n",
    "from transformers import AutoModelForSequenceClassification, AutoTokenizer, get_linear_schedule_with_warmup, pipeline, AutoModelForTokenClassification\n",
    "from sklearn.model_selection import StratifiedKFold, train_test_split\n",
    "from sklearn.preprocessing import LabelEncoder\n",
    "from torch.optim.lr_scheduler import StepLR\n",
    "import pickle\n",
    "from torch.utils.data import DataLoader, TensorDataset, SequentialSampler, Dataset\n",
    "from torch.nn.utils.rnn import pad_sequence"
   ]
  },
  {
   "cell_type": "code",
   "execution_count": 4,
   "metadata": {},
   "outputs": [],
   "source": [
    "INPUT_PATH = \"./data/danh-sach-thong-ke.xlsx\""
   ]
  },
  {
   "cell_type": "code",
   "execution_count": 5,
   "metadata": {},
   "outputs": [
    {
     "data": {
      "text/html": [
       "<div>\n",
       "<style scoped>\n",
       "    .dataframe tbody tr th:only-of-type {\n",
       "        vertical-align: middle;\n",
       "    }\n",
       "\n",
       "    .dataframe tbody tr th {\n",
       "        vertical-align: top;\n",
       "    }\n",
       "\n",
       "    .dataframe thead th {\n",
       "        text-align: right;\n",
       "    }\n",
       "</style>\n",
       "<table border=\"1\" class=\"dataframe\">\n",
       "  <thead>\n",
       "    <tr style=\"text-align: right;\">\n",
       "      <th></th>\n",
       "      <th>Nội dung xử lý</th>\n",
       "      <th>Nội dung phản ánh</th>\n",
       "    </tr>\n",
       "  </thead>\n",
       "  <tbody>\n",
       "    <tr>\n",
       "      <th>0</th>\n",
       "      <td>__label__KPA</td>\n",
       "      <td>tự ý rào cột điện lấn chiếm vỉa hè. có sự cố v...</td>\n",
       "    </tr>\n",
       "    <tr>\n",
       "      <th>1</th>\n",
       "      <td>__label__KPA</td>\n",
       "      <td>Thưa các ban ngành đoàn thể cơ quan chức năng....</td>\n",
       "    </tr>\n",
       "    <tr>\n",
       "      <th>2</th>\n",
       "      <td>__label__KPA</td>\n",
       "      <td>Nhờ chính quyền long an có biện pháp giải quyế...</td>\n",
       "    </tr>\n",
       "    <tr>\n",
       "      <th>3</th>\n",
       "      <td>__label__KPA</td>\n",
       "      <td>XÓM TÔI CÓ 1 LỐI ĐI CHUNG 2m NHƯNG HÀNG XÓM TÔ...</td>\n",
       "    </tr>\n",
       "    <tr>\n",
       "      <th>4</th>\n",
       "      <td>__label__KPA</td>\n",
       "      <td>vứt rác xuống đường kênh công vụ gây cản trở n...</td>\n",
       "    </tr>\n",
       "  </tbody>\n",
       "</table>\n",
       "</div>"
      ],
      "text/plain": [
       "  Nội dung xử lý                                  Nội dung phản ánh\n",
       "0   __label__KPA  tự ý rào cột điện lấn chiếm vỉa hè. có sự cố v...\n",
       "1   __label__KPA  Thưa các ban ngành đoàn thể cơ quan chức năng....\n",
       "2   __label__KPA  Nhờ chính quyền long an có biện pháp giải quyế...\n",
       "3   __label__KPA  XÓM TÔI CÓ 1 LỐI ĐI CHUNG 2m NHƯNG HÀNG XÓM TÔ...\n",
       "4   __label__KPA  vứt rác xuống đường kênh công vụ gây cản trở n..."
      ]
     },
     "execution_count": 5,
     "metadata": {},
     "output_type": "execute_result"
    }
   ],
   "source": [
    "def get_data(file):\n",
    "    df = pd.read_excel(file, engine=\"openpyxl\")\n",
    "    return df\n",
    "\n",
    "data = get_data(INPUT_PATH)\n",
    "data.head(5)"
   ]
  },
  {
   "cell_type": "code",
   "execution_count": 6,
   "metadata": {},
   "outputs": [],
   "source": [
    "label_mapping = {\"__label__KPA\": 0, \"__label__PA\": 1}"
   ]
  },
  {
   "cell_type": "code",
   "execution_count": 7,
   "metadata": {},
   "outputs": [],
   "source": [
    "data = data.rename(columns={'Nội dung xử lý': 'label'})\n",
    "data = data.rename(columns={'Nội dung phản ánh': 'text'})"
   ]
  },
  {
   "cell_type": "code",
   "execution_count": 8,
   "metadata": {},
   "outputs": [
    {
     "data": {
      "text/plain": [
       "Index(['label', 'text'], dtype='object')"
      ]
     },
     "execution_count": 8,
     "metadata": {},
     "output_type": "execute_result"
    }
   ],
   "source": [
    "data.columns"
   ]
  },
  {
   "cell_type": "code",
   "execution_count": 9,
   "metadata": {},
   "outputs": [],
   "source": [
    "# data.replace({\"label\": label_mapping}, inplace=True)"
   ]
  },
  {
   "cell_type": "code",
   "execution_count": 10,
   "metadata": {},
   "outputs": [
    {
     "data": {
      "text/html": [
       "<div>\n",
       "<style scoped>\n",
       "    .dataframe tbody tr th:only-of-type {\n",
       "        vertical-align: middle;\n",
       "    }\n",
       "\n",
       "    .dataframe tbody tr th {\n",
       "        vertical-align: top;\n",
       "    }\n",
       "\n",
       "    .dataframe thead th {\n",
       "        text-align: right;\n",
       "    }\n",
       "</style>\n",
       "<table border=\"1\" class=\"dataframe\">\n",
       "  <thead>\n",
       "    <tr style=\"text-align: right;\">\n",
       "      <th></th>\n",
       "      <th>label</th>\n",
       "      <th>text</th>\n",
       "    </tr>\n",
       "  </thead>\n",
       "  <tbody>\n",
       "    <tr>\n",
       "      <th>0</th>\n",
       "      <td>__label__KPA</td>\n",
       "      <td>tự ý rào cột điện lấn chiếm vỉa hè. có sự cố v...</td>\n",
       "    </tr>\n",
       "    <tr>\n",
       "      <th>1</th>\n",
       "      <td>__label__KPA</td>\n",
       "      <td>Thưa các ban ngành đoàn thể cơ quan chức năng....</td>\n",
       "    </tr>\n",
       "    <tr>\n",
       "      <th>2</th>\n",
       "      <td>__label__KPA</td>\n",
       "      <td>Nhờ chính quyền long an có biện pháp giải quyế...</td>\n",
       "    </tr>\n",
       "    <tr>\n",
       "      <th>3</th>\n",
       "      <td>__label__KPA</td>\n",
       "      <td>XÓM TÔI CÓ 1 LỐI ĐI CHUNG 2m NHƯNG HÀNG XÓM TÔ...</td>\n",
       "    </tr>\n",
       "    <tr>\n",
       "      <th>4</th>\n",
       "      <td>__label__KPA</td>\n",
       "      <td>vứt rác xuống đường kênh công vụ gây cản trở n...</td>\n",
       "    </tr>\n",
       "  </tbody>\n",
       "</table>\n",
       "</div>"
      ],
      "text/plain": [
       "          label                                               text\n",
       "0  __label__KPA  tự ý rào cột điện lấn chiếm vỉa hè. có sự cố v...\n",
       "1  __label__KPA  Thưa các ban ngành đoàn thể cơ quan chức năng....\n",
       "2  __label__KPA  Nhờ chính quyền long an có biện pháp giải quyế...\n",
       "3  __label__KPA  XÓM TÔI CÓ 1 LỐI ĐI CHUNG 2m NHƯNG HÀNG XÓM TÔ...\n",
       "4  __label__KPA  vứt rác xuống đường kênh công vụ gây cản trở n..."
      ]
     },
     "execution_count": 10,
     "metadata": {},
     "output_type": "execute_result"
    }
   ],
   "source": [
    "data.head(5)"
   ]
  },
  {
   "cell_type": "markdown",
   "metadata": {},
   "source": [
    "# Data Exploration"
   ]
  },
  {
   "cell_type": "code",
   "execution_count": 11,
   "metadata": {},
   "outputs": [
    {
     "name": "stdout",
     "output_type": "stream",
     "text": [
      "<class 'pandas.core.frame.DataFrame'>\n",
      "RangeIndex: 2411 entries, 0 to 2410\n",
      "Data columns (total 2 columns):\n",
      " #   Column  Non-Null Count  Dtype \n",
      "---  ------  --------------  ----- \n",
      " 0   label   2411 non-null   object\n",
      " 1   text    2411 non-null   object\n",
      "dtypes: object(2)\n",
      "memory usage: 37.8+ KB\n"
     ]
    }
   ],
   "source": [
    "data.info()"
   ]
  },
  {
   "cell_type": "code",
   "execution_count": 12,
   "metadata": {},
   "outputs": [
    {
     "data": {
      "text/plain": [
       "label    0\n",
       "text     0\n",
       "dtype: int64"
      ]
     },
     "execution_count": 12,
     "metadata": {},
     "output_type": "execute_result"
    }
   ],
   "source": [
    "data.isnull().sum()"
   ]
  },
  {
   "cell_type": "code",
   "execution_count": 13,
   "metadata": {},
   "outputs": [
    {
     "data": {
      "image/png": "[encoded data removed]",
      "text/plain": [
       "<Figure size 1000x600 with 1 Axes>"
      ]
     },
     "metadata": {},
     "output_type": "display_data"
    }
   ],
   "source": [
    "plt.figure(figsize=(10, 6))\n",
    "ax = sns.countplot(x=\"label\", data=data)\n",
    "\n",
    "# Add value labels on each bar\n",
    "for p in ax.patches:\n",
    "    ax.annotate(f'{p.get_height()}', (p.get_x() + p.get_width() / 2., p.get_height()), \n",
    "                ha='center', va='baseline', fontsize=12, color='black', xytext=(0, 5), \n",
    "                textcoords='offset points')\n",
    "\n",
    "# Display the plot\n",
    "plt.show()"
   ]
  },
  {
   "cell_type": "code",
   "execution_count": 14,
   "metadata": {},
   "outputs": [],
   "source": [
    "tokenizer = AutoTokenizer.from_pretrained(\"vinai/phobert-base\", use_fast=False)"
   ]
  },
  {
   "cell_type": "code",
   "execution_count": 15,
   "metadata": {},
   "outputs": [
    {
     "data": {
      "text/plain": [
       "Text(0.5, 9.444444444444438, 'Token Count')"
      ]
     },
     "execution_count": 15,
     "metadata": {},
     "output_type": "execute_result"
    },
    {
     "data": {
      "image/png": "[encoded data removed]",
      "text/plain": [
       "<Figure size 500x500 with 1 Axes>"
      ]
     },
     "metadata": {},
     "output_type": "display_data"
    }
   ],
   "source": [
    "all_data = data['text'].tolist()\n",
    "all_data = [' '.join(simple_preprocess(text)) for text in all_data]\n",
    "encoded_text = [tokenizer.encode(text, add_special_tokens=True) for text in all_data]\n",
    "token_lens = [len(text) for text in encoded_text]\n",
    "sns.displot(token_lens)\n",
    "plt.xlim([0,max(token_lens)])\n",
    "plt.xlabel('Token Count')"
   ]
  },
  {
   "cell_type": "markdown",
   "metadata": {},
   "source": [
    "# Preprocessing data"
   ]
  },
  {
   "cell_type": "markdown",
   "metadata": {},
   "source": [
    "# Lower Case"
   ]
  },
  {
   "cell_type": "code",
   "execution_count": 16,
   "metadata": {},
   "outputs": [
    {
     "name": "stderr",
     "output_type": "stream",
     "text": [
      "100%|██████████| 2411/2411 [00:00<00:00, 481408.50it/s]\n"
     ]
    }
   ],
   "source": [
    "data[\"text\"] = data[\"text\"].str.strip().str.replace(\"\\n\",\" \")\n",
    "text = data[\"text\"]\n",
    "text = [c.lower() for c in tqdm(text)]"
   ]
  },
  {
   "cell_type": "markdown",
   "metadata": {},
   "source": [
    "Đây là một ví dụ      với    khoảng trắng dư thừa.\n",
    "\n",
    "Đây là một dòng mới.\n",
    "\n",
    "\n"
   ]
  },
  {
   "cell_type": "code",
   "execution_count": 17,
   "metadata": {},
   "outputs": [
    {
     "data": {
      "text/plain": [
       "['tự ý rào cột điện lấn chiếm vỉa hè. có sự cố và kéo dây điện không thực hiện được. cần thao tác khi không có người o nhà phải leo hàng rào. mong bên điện lực và chính quyền có hướng xử lý',\n",
       " 'thưa các ban ngành đoàn thể cơ quan chức năng.nay tôi viết phản ánh này xin trình bày bức xúc chung của riêng tôi cũng như bà con lối xóm trong khu là:hiện trạng tụ tập nhiều thành phần bất hảo không rõ lí lịch nhân thân ăn nhậu.mở loa hát karaoke với công suất lớn.đậu xe.đặt bàn ghế.ngồi ăn nhậu giữa lòng đường lấn chiếm hết cả lối đi chung.gây bức xúc và ảnh hưởng rất nhiều đến cuộc sống của người dân nơi đây.nhiều lần tôi có qua nhắc nhở và đã bị họ hành hung.đe dọa.tình trạng này kéo dài hơn 5 năm nay.chính quyền địa phương vào nhắc nhở nhưng cũng không thay đổi.nay tôi kính mong chính quyền chức năng vào cuộc giúp bà con nơi đây có được không khí yên lành để an cư lạc nghiệp.tôi xin chân thành cảm ơn!!!',\n",
       " 'nhờ chính quyền long an có biện pháp giải quyết vấn đề về trực tự nơi này vì đã rất nhiều lần nơi này thường tụ tập mở loa kẹo kéo rất lớn tụ tập ăn nhậu đậu xe ko còn lối đi cho người cuối hẻm. hẻm thì nhỏ chỉ được 2m mà họ để ghế đá như hình chắn hết lối đi. em ở địa chỉ tổ 1 kp kim điền tt cần giuộc la? hẽm đối diện kênh tâp đoàn 2. nhờ chính quyền can thiệp giải quyết giúp người dân nơi đây để có cuộc sống được bình yên sau giờ làm việc được nghĩ ngơi. chân thành cảm ơn chính quyền các cấp.!!!',\n",
       " 'xóm tôi có 1 lối đi chung 2m nhưng hàng xóm tôi lúc nào cũng nhậu nhẹt chiếm lối đi. bữa đó tôi có chạy xe ngang và va quẹt phải, sau đó thì người nhà của bọn họ qua nhà tôi cãi vã, rồi bắt đầu xông vào đánh cha con tôi, người thì cầm dao người thì cầm gạch định truy sát gia đình tôi',\n",
       " 'vứt rác xuống đường kênh công vụ gây cản trở người dân lưu thông ô nhiễm môi trường gây động nước thành hố gây sụt lúng bờ kênh ảnh hưởng trực tiếp đến giao thông cho những hộ dân phía bên trong không thể lưu thông',\n",
       " 'tiền lương cá nhân của cavtt thì ít, mà bắt buộc vô công đoàn, vô rồi thì tiền gì cổng bắt đóng theo sự bắt buộc hết hơn, riết rồi làm sao đủ xin hoạt gia đình được ạ',\n",
       " 'khói và chất thải của nhà máy',\n",
       " 'bãi rác đức huệ vẫn cháy âm ỉ, khói rác phát sinh liên tục, mùi hôi khó chịu, khói độc hại lan xuống khu vực dân cư xung quanh.   rác thải sinh hoạt tập kết ở đây dù hiện tại chưa thể xử lý theo tiêu chuẩn môi trường nhưng rất cần được quản lý hợp lý, an toàn, nhằm hạn chế thấp nhất việc phát sinh thêm ô nhiễm.   kính mong quý lãnh đạo huyện đức huệ đặc biệt quan tâm hơn đến sức khoẻ người dân và người dân rất mong mỏi quý lãnh đạo nhanh chóng dập tắt hết khói tại khu vực này để có một bầu không khí trong lành để hít thở, đảm bảo chất lượng cuộc sống người dân tại khu vực.  xin chân thành cảm ơn quý anh chị đã dành thời gian đọc phản ánh này.   hình chụp video đính kèm, ghi nhận ngày 8/6/2024',\n",
       " 'hiện nay trên địa bàn xã thuận thành có rất nhiều thửa đất trồng lúa bị bỏ hoang từ nhiều năm do chủ ruộng tại địa phương đã bán cho chủ khác từ địa phương khác nhiều nhất là từ thành phố hồ chí minh mua để kinh doanh theo dạng mua đi bán lại hưởng chênh lệch giá gây nên hệ quả như: cỏ mọc um tùm, ô nhiễm môi trường do nhiều người vứt rác, chất thải vào khu vực bỏ hoang này gây lãng phí nguồn tài nguyên đất. tuy nhiên nhiều năm qua chính quyền địa phương cũng không thật sự quan tâm dù nhiều lần cử tri phản ánh trong các cuộc họp tiếp xúc cử tri nhưng địa phương chỉ trả lời chung chung là vận động chủ đất về canh tác hoặc cho dân địa phương thuê lại để canh tác và đã giải quyết xong hết nhưng thật sự trả lời chưa đúng vì cần rất nhiều thửa đất bỏ hoang và không thể canh tác vì các chủ đất này tự ý hạ mặt ruộng để lấy đất đem bán và tiến hành làm hàng rào cột xi măng và kéo lưới b40 rất chắc chắn, việc này gây ảnh hưởng đến những đám ruộng kế bên do bị nhiễm mặn và chuột ẩn núp từ đám ruộng bỏ hoang này sang cắn phá gây thiệt hại rất lớn. chính vì lẽ đó nên tôi đề nghị như sau: chính quyền các cấp có hướng điều tra thu thập thông tin thường xuyên và lâu dài những đám ruộng bỏ hoang này nhằm yêu cầu chủ đất canh tác không bỏ hoang gây lãng phí nguồn tài nguyên đất, nếu không khắc phục thì phải thu hồi và cho các hộ khác có nhu cầu thuê tạo nguồn thu cho ngân sách nhà nước./.',\n",
       " 'thành phố tân an là đô thị phát triển, đô thị vệ tinh của tphcm sắp tiến tới đô thị loại 1 tiềm năng thu hút các dân cư ở tphcm về ở. thêm nữa, nhu cầu sử dụng oto ở đây càng ngày càng tăng do có các showroom oto kích thích tiêu dùng. tuy nhiên, hạ tầng đồ thị (lề đường, sân trước nhà phố) và bãi giữ xe oto không đảm bảo đáp ứng nhu cầu đổ xe của người dân hiện tại và tương lai. dẫn đến có nhiều hộ dân chiếm đậu xe oto trên lề, đường hoặc công viên trước nhà làm ảnh hưởng cảnh quan đô thị, ảnh hưởng giao thông và người đi bộ.  tôi đã gửi đơn đến phòng quản lý đô thị tp hỏi về nhu cầu xây dựng hầm trên lô đất của tôi ở khu dân cư đại dương phường 6 thì trả lời văn bản đến tôi không được phép xây hầm/bán hầm. trong khi các dự án, ngân hàng, văn phòng lại được phép xây dựng hầm là chưa đồng bộ chưa khai thác đáp ứng hết nhu cầu của ngườ dân có nhu cầu xây hầm phục vụ kinh doanh, đổ xe,…  qua đây, tôi kiến nghị sở xây dựng, tp tân an nghiên cứu, xây dựng lại quy hoạch không gian xây dựng ngầm đô thị, tham mưu  uỷ ban nhân dân tỉnh để sớm triển khai sửa đổi các quy hoạch liên quan đáp ứng nhu cầu người dân trung tâm thành phố trước xu hướng dịch chuyển sản xuất công nghiệp ra ngoài tphcm và người dân tphcm (có oto riêng) nhập cư về long an và tp tân an sinh sống.',\n",
       " 'đoạn đường đt 824, từ tua 1 đến cống bà bông, các \"quán đèn mờ\", hiện nay kg còn, nhưng bây giờ \" quán gái bán dâm\" đang phát triển ngày càng nhiều. vì văn hóa cộng đồng, đề nghị cơ quan chức nắng triệt để truy quyét  tệ nạn mại dâm này, xứng đáng là ấp văn hóa nâng cao',\n",
       " 'chợ phường 3, tại cái tuyến đường số 1, 2 khu dân cư chợ tình trạng buôn bán, các hộ dân đậu xe du lịch lấn chiếm vỉa hè đi bộ đậu xe gây cản trở người đi bộ. đề nghị chính quyền xem xét  trả lại vỉa hè cho người đi bộ.',\n",
       " 'hiện tại ngã 5 bình nhựt lại bị tai nạn giao thông với tình trạng ùn ứ xe rất lâu nhưng chưa thấy cơ quan tác động, mong nhận phản hồi để người dân khu vực này an tâm khi lưu thông qua đường',\n",
       " 'giáo dục và đào tạo đến hẹn lại lên. là một giáo viên thcs thị trấn tân hưng chúng tôi không sợ cực, không sợ khổ, chỉ sợ không công bằng. hằng năm điều diễn ra việc ưu tiên xét thi đua cho hội đồng xét thi đua, rõ nhất năm nay 90% thành viên hội đồng thi đua đều được đề nghị khen thưởng (chỉ còn lại 1 cô thư ký và 1 giáo viên). khi được hỏi tiêu chuẩn nào để xét thi đua cho cô a và thầy b nhằm đảm bảo công bằng  thì không có. chỉ hội đồng làm việc sau đó thông báo cho giáo viên trường xem có ý kiến gì không, không ít giáo viên đã khóc khi không được bảo vệ quyền và lợi ích chính đáng. tôi thấy rất bất công 1. giáo viên được đánh giá hoàn thành xuất sắc nhiệm vụ chỉ cần công nhận đạt giáo viên giỏi, tổng phụ trách giỏi, đoàn thanh niên .... mà tiêu chí dạy và học không được quan tâm.  trong khi đó chất lượng môn dạy thì không nổi trội, lớp chủ nhiệm có học sinh thi lại, đánh nhau, bị hạ hạnh kiểm....chẵn thế mà còn xét giáo viên tiêu biểu. không hiểu nổi. 2. việc phát động thi đua do công đoàn, nhưng công đoàn lại không bảo vệ quyền lợi chính đáng cho giáo viên. chẵng lẽ công đoàn không biết cái giáo viên giỏi ... là phong trào, việc tham gia hay không tham gia đâu ảnh hưởng tới thi đua. nếu dùng nó để xét hoàn thành xuất sắc nhiệm vụ, hoàn thành tốt nhiệm vụ thì những người không tham gia hoặc tham gia không đạt giải thì phải xếp là không hoàn thành nhiệm vụ. 3. nói nhiều cũng vậy, ý kiến lần này hi vọng không phải ý kiến nữa.',\n",
       " 'cộng hòa xã hội chủ nghĩa việt nam        độc lập - tự do - hạnh phúc  ---------------------------------------------------------------------   đơn: đóng góp ý kiến  cần giuộc ngày:5/6/2024 kính gửi: công an huyện cần giuộc,ubnd huyện,tổng đài 1022                                 ( nội dung ) - kính gửi công an huyện cần giuộc, trưởng công an huyện cần giuộc, đây là văn bản công dân muốn gửi đến công an huyện nhằm mục đích đề nghị công an huyện tích cực tuần tra,nắm bắt tình hình giao thông trên khu vực. (1). thời gian gần đây công dân phát hiệu nhiều xe chạy ẩu tả,lấn lend,chèn ép xe nhỏ,cùng với nhiều xe đưa rước công nhân phóng bạt mạng trên tuyến ql50 từ cần giuộc về cần đước, đây cũng là một vấn đề đáng nghiêm trọng đã gây ra nhiều vụ tai nạn giao thông trên địa bàn huyện, làm tử vong nhiều người. cần được xử lý kịp thời (2). vấn đề tiếp theo tại trung tâm thị trấn cần giuộc về đêm khủng giờ từ 6h-9h tối hàng ngày tại công viên nguyễn thái bình có rất nhiều vụ việc các thanh thiếu niên chạy xe không đội nón bảo hiểm,ẩu đả,đánh nhau gây mất an ninh trật tự, và cũng phát hiện nhiều nhóm tụ tập phóng xe nẹt pô ra oai phố phường gây nguy hiểm tới các phương tiện tham gia giao thông khác.. cũng là vấn nạng nghiêm trọng và hậu quả khó nghĩ tới (3). vấn đề tiếp theo công dân ghi nhận được và có hình ảnh,video xác minh tại khu dân cư mộc, cầu cần giuộc- phước lại (về đêm khung giờ từ 7h-10h hàng ngày công dân ghi nhận rất nhiều trường hợp tụ tập phóng xe rú ga gây náo loạn khu dân cư có nhiều hộ dân sinh sống ven đường) - như trên là 3 vấn đề về tình hình ăn toàn giao thông công dân đã ghi nhận trong thời gian vừa qua, (và công dân cũng đề nghị công an huyện cần giuộc tích cực tuần tra các điểm như trên mà công dân đã phản ánh và tuần tra hàng tuần để bảo đảm ăn toàn giao thông, và tuyên truyền ý thức cho nhân dân,ai sai phạm là xử lý nghiêm. - vì nước quên thân vì dân phục vụ  - công dân mong trưởng công an huyện cần giuộc độc và thầu hiểu tiếng nói của nhân dân  - công dân kính gửi đến tổng đài 1022 kính mong tổng đài phê duyệt xử lý giúp nhân dân                     xin cảm ơn  + có hình ảnh,video + lưu: công dân',\n",
       " 'điện lực đức hoà không đảm bảo được đủ điện cho người dân. tình trạng cúp điện xảy ra liên tục vào các buổi tối, điện chập chờn liên tục, làm ảnh hưởng tới các thiết bị điện, đời sống của các hộ gia đình (đặc biệt là gia đình có con nhỏ). điện cúp tới hơn 1 giờ sáng thì làm sao người dân có thể đảm bảo được sức khoẻ? khi xảy ra mất điện, không được hỗ trợ từ evn dù đã liên lạc đường dây nóng rất nhiều!',\n",
       " 'giáo dục. đến hẹn lại lên. là một giáo viên thcs thị trấn tân hưng chúng tôi không sợ cực, không sợ khổ, chỉ sợ không công bằng. hằng năm điều diễn ra việc ưu tiên xét thi đua cho hội đồng xét thi đua, rõ nhất năm nay 90% thành viên hội đồng thi đua đều được đề nghị khen thưởng (chỉ còn lại 1 cô thư ký và 1 giáo viên). khi được hỏi tiêu chuẩn nào để xét thi đua cho cô a và thầy b nhằm đảm bảo công bằng  thì không có. chỉ hội đồng làm việc sau đó thông báo cho giáo viên trường xem có ý kiến gì không, không ít giáo viên đã khóc khi không được bảo vệ quyền và lợi ích chính đáng. tôi thấy rất bất công 1. giáo viên được đánh giá hoàn thành xuất sắc nhiệm vụ chỉ cần công nhận đạt giáo viên giỏi, tổng phụ trách giỏi, đoàn thanh niên .... mà tiêu chí dạy và học không được quan tâm.  trong khi đó chất lượng môn dạy thì không nổi trội, lớp chủ nhiệm có học sinh thi lại, đánh nhau, bị hạ hạnh kiểm....chẵn thế mà còn xét giáo viên tiêu biểu. không hiểu nổi. 2. việc phát động thi đua do công đoàn, nhưng công đoàn lại không bảo vệ quyền lợi chính đáng cho giáo viên. chẵng lẽ công đoàn không biết cái giáo viên giỏi ... là phong trào,  việc tham gia hay không tham gia đâu ảnh hưởng tới thi đua. nếu dùng nó để xét hoàn thành xuất sắc nhiệm vụ, hoàn thành tốt nhiệm vụ thì những người không tham gia hoặc tham gia  không đạt giải thì phải xếp là không hoàn thành nhiệm vụ. 3. nói nhiều cũng vậy, ý kiến lần này hi vọng không phải ý kiến nữa.',\n",
       " '- sử dụng điện thoại khi lái xe ô tô, nguy cơ cao gây tai nạn giao thông cho người đi đường. - đăng tải video clip lên mạng xã hội tiktok nhằm câu view, câu like, lan truyền, cổ vũ cho hành vi vi phạm. - bình luận thách thức pháp luật khi có người cho đó là hành vi không đúng. - bằng chứng về hành vi vi phạm đã được sao chép và tổng hợp đầy đủ tại đây https://drive.google.com/drive/folders/1k70pzjs-k7gaqwd6y84yhof21m52lxfl - nhờ cơ quan công an dựa vào thông tin biển số xe để xử lý hành vi nguy hiểm đến nơi đến chốn, nhằm tuyên truyền, răn đe, tránh trường hợp hình thành xu hướng không tốt trên mạng xã hội, gây nguy cơ mất trật tự an toàn giao thông. xin cám ơn',\n",
       " 'hiện tại từ năm 2023 đến nay tại ấp vĩnh bửu xã vĩnh đại huyện tân hưng tỉnh long an bà con dân không có nước sạch sử dụng',\n",
       " 'xe ba bánh cơi nới thùng, gắn 5 bánh. gắn động cơ 250cc.']"
      ]
     },
     "execution_count": 17,
     "metadata": {},
     "output_type": "execute_result"
    }
   ],
   "source": [
    "text[:20]"
   ]
  },
  {
   "cell_type": "markdown",
   "metadata": {},
   "source": [
    "# Replace \"\\n\" and whitespace"
   ]
  },
  {
   "cell_type": "code",
   "execution_count": 18,
   "metadata": {},
   "outputs": [
    {
     "name": "stderr",
     "output_type": "stream",
     "text": [
      "  0%|          | 0/2411 [00:00<?, ?it/s]"
     ]
    },
    {
     "name": "stderr",
     "output_type": "stream",
     "text": [
      "100%|██████████| 2411/2411 [00:00<00:00, 88978.25it/s]\n"
     ]
    },
    {
     "data": {
      "text/plain": [
       "['tự ý rào cột điện lấn chiếm vỉa hè. có sự cố và kéo dây điện không thực hiện được. cần thao tác khi không có người o nhà phải leo hàng rào. mong bên điện lực và chính quyền có hướng xử lý',\n",
       " 'thưa các ban ngành đoàn thể cơ quan chức năng.nay tôi viết phản ánh này xin trình bày bức xúc chung của riêng tôi cũng như bà con lối xóm trong khu là:hiện trạng tụ tập nhiều thành phần bất hảo không rõ lí lịch nhân thân ăn nhậu.mở loa hát karaoke với công suất lớn.đậu xe.đặt bàn ghế.ngồi ăn nhậu giữa lòng đường lấn chiếm hết cả lối đi chung.gây bức xúc và ảnh hưởng rất nhiều đến cuộc sống của người dân nơi đây.nhiều lần tôi có qua nhắc nhở và đã bị họ hành hung.đe dọa.tình trạng này kéo dài hơn 5 năm nay.chính quyền địa phương vào nhắc nhở nhưng cũng không thay đổi.nay tôi kính mong chính quyền chức năng vào cuộc giúp bà con nơi đây có được không khí yên lành để an cư lạc nghiệp.tôi xin chân thành cảm ơn!!!',\n",
       " 'nhờ chính quyền long an có biện pháp giải quyết vấn đề về trực tự nơi này vì đã rất nhiều lần nơi này thường tụ tập mở loa kẹo kéo rất lớn tụ tập ăn nhậu đậu xe ko còn lối đi cho người cuối hẻm. hẻm thì nhỏ chỉ được 2m mà họ để ghế đá như hình chắn hết lối đi. em ở địa chỉ tổ 1 kp kim điền tt cần giuộc la? hẽm đối diện kênh tâp đoàn 2. nhờ chính quyền can thiệp giải quyết giúp người dân nơi đây để có cuộc sống được bình yên sau giờ làm việc được nghĩ ngơi. chân thành cảm ơn chính quyền các cấp.!!!',\n",
       " 'xóm tôi có 1 lối đi chung 2m nhưng hàng xóm tôi lúc nào cũng nhậu nhẹt chiếm lối đi. bữa đó tôi có chạy xe ngang và va quẹt phải, sau đó thì người nhà của bọn họ qua nhà tôi cãi vã, rồi bắt đầu xông vào đánh cha con tôi, người thì cầm dao người thì cầm gạch định truy sát gia đình tôi',\n",
       " 'vứt rác xuống đường kênh công vụ gây cản trở người dân lưu thông ô nhiễm môi trường gây động nước thành hố gây sụt lúng bờ kênh ảnh hưởng trực tiếp đến giao thông cho những hộ dân phía bên trong không thể lưu thông',\n",
       " 'tiền lương cá nhân của cavtt thì ít, mà bắt buộc vô công đoàn, vô rồi thì tiền gì cổng bắt đóng theo sự bắt buộc hết hơn, riết rồi làm sao đủ xin hoạt gia đình được ạ',\n",
       " 'khói và chất thải của nhà máy',\n",
       " 'bãi rác đức huệ vẫn cháy âm ỉ, khói rác phát sinh liên tục, mùi hôi khó chịu, khói độc hại lan xuống khu vực dân cư xung quanh. rác thải sinh hoạt tập kết ở đây dù hiện tại chưa thể xử lý theo tiêu chuẩn môi trường nhưng rất cần được quản lý hợp lý, an toàn, nhằm hạn chế thấp nhất việc phát sinh thêm ô nhiễm. kính mong quý lãnh đạo huyện đức huệ đặc biệt quan tâm hơn đến sức khoẻ người dân và người dân rất mong mỏi quý lãnh đạo nhanh chóng dập tắt hết khói tại khu vực này để có một bầu không khí trong lành để hít thở, đảm bảo chất lượng cuộc sống người dân tại khu vực. xin chân thành cảm ơn quý anh chị đã dành thời gian đọc phản ánh này. hình chụp video đính kèm, ghi nhận ngày 8/6/2024',\n",
       " 'hiện nay trên địa bàn xã thuận thành có rất nhiều thửa đất trồng lúa bị bỏ hoang từ nhiều năm do chủ ruộng tại địa phương đã bán cho chủ khác từ địa phương khác nhiều nhất là từ thành phố hồ chí minh mua để kinh doanh theo dạng mua đi bán lại hưởng chênh lệch giá gây nên hệ quả như: cỏ mọc um tùm, ô nhiễm môi trường do nhiều người vứt rác, chất thải vào khu vực bỏ hoang này gây lãng phí nguồn tài nguyên đất. tuy nhiên nhiều năm qua chính quyền địa phương cũng không thật sự quan tâm dù nhiều lần cử tri phản ánh trong các cuộc họp tiếp xúc cử tri nhưng địa phương chỉ trả lời chung chung là vận động chủ đất về canh tác hoặc cho dân địa phương thuê lại để canh tác và đã giải quyết xong hết nhưng thật sự trả lời chưa đúng vì cần rất nhiều thửa đất bỏ hoang và không thể canh tác vì các chủ đất này tự ý hạ mặt ruộng để lấy đất đem bán và tiến hành làm hàng rào cột xi măng và kéo lưới b40 rất chắc chắn, việc này gây ảnh hưởng đến những đám ruộng kế bên do bị nhiễm mặn và chuột ẩn núp từ đám ruộng bỏ hoang này sang cắn phá gây thiệt hại rất lớn. chính vì lẽ đó nên tôi đề nghị như sau: chính quyền các cấp có hướng điều tra thu thập thông tin thường xuyên và lâu dài những đám ruộng bỏ hoang này nhằm yêu cầu chủ đất canh tác không bỏ hoang gây lãng phí nguồn tài nguyên đất, nếu không khắc phục thì phải thu hồi và cho các hộ khác có nhu cầu thuê tạo nguồn thu cho ngân sách nhà nước./.',\n",
       " 'thành phố tân an là đô thị phát triển, đô thị vệ tinh của tphcm sắp tiến tới đô thị loại 1 tiềm năng thu hút các dân cư ở tphcm về ở. thêm nữa, nhu cầu sử dụng oto ở đây càng ngày càng tăng do có các showroom oto kích thích tiêu dùng. tuy nhiên, hạ tầng đồ thị (lề đường, sân trước nhà phố) và bãi giữ xe oto không đảm bảo đáp ứng nhu cầu đổ xe của người dân hiện tại và tương lai. dẫn đến có nhiều hộ dân chiếm đậu xe oto trên lề, đường hoặc công viên trước nhà làm ảnh hưởng cảnh quan đô thị, ảnh hưởng giao thông và người đi bộ. tôi đã gửi đơn đến phòng quản lý đô thị tp hỏi về nhu cầu xây dựng hầm trên lô đất của tôi ở khu dân cư đại dương phường 6 thì trả lời văn bản đến tôi không được phép xây hầm/bán hầm. trong khi các dự án, ngân hàng, văn phòng lại được phép xây dựng hầm là chưa đồng bộ chưa khai thác đáp ứng hết nhu cầu của ngườ dân có nhu cầu xây hầm phục vụ kinh doanh, đổ xe,… qua đây, tôi kiến nghị sở xây dựng, tp tân an nghiên cứu, xây dựng lại quy hoạch không gian xây dựng ngầm đô thị, tham mưu uỷ ban nhân dân tỉnh để sớm triển khai sửa đổi các quy hoạch liên quan đáp ứng nhu cầu người dân trung tâm thành phố trước xu hướng dịch chuyển sản xuất công nghiệp ra ngoài tphcm và người dân tphcm (có oto riêng) nhập cư về long an và tp tân an sinh sống.',\n",
       " 'đoạn đường đt 824, từ tua 1 đến cống bà bông, các \"quán đèn mờ\", hiện nay kg còn, nhưng bây giờ \" quán gái bán dâm\" đang phát triển ngày càng nhiều. vì văn hóa cộng đồng, đề nghị cơ quan chức nắng triệt để truy quyét tệ nạn mại dâm này, xứng đáng là ấp văn hóa nâng cao',\n",
       " 'chợ phường 3, tại cái tuyến đường số 1, 2 khu dân cư chợ tình trạng buôn bán, các hộ dân đậu xe du lịch lấn chiếm vỉa hè đi bộ đậu xe gây cản trở người đi bộ. đề nghị chính quyền xem xét trả lại vỉa hè cho người đi bộ.',\n",
       " 'hiện tại ngã 5 bình nhựt lại bị tai nạn giao thông với tình trạng ùn ứ xe rất lâu nhưng chưa thấy cơ quan tác động, mong nhận phản hồi để người dân khu vực này an tâm khi lưu thông qua đường',\n",
       " 'giáo dục và đào tạo đến hẹn lại lên. là một giáo viên thcs thị trấn tân hưng chúng tôi không sợ cực, không sợ khổ, chỉ sợ không công bằng. hằng năm điều diễn ra việc ưu tiên xét thi đua cho hội đồng xét thi đua, rõ nhất năm nay 90% thành viên hội đồng thi đua đều được đề nghị khen thưởng (chỉ còn lại 1 cô thư ký và 1 giáo viên). khi được hỏi tiêu chuẩn nào để xét thi đua cho cô a và thầy b nhằm đảm bảo công bằng thì không có. chỉ hội đồng làm việc sau đó thông báo cho giáo viên trường xem có ý kiến gì không, không ít giáo viên đã khóc khi không được bảo vệ quyền và lợi ích chính đáng. tôi thấy rất bất công 1. giáo viên được đánh giá hoàn thành xuất sắc nhiệm vụ chỉ cần công nhận đạt giáo viên giỏi, tổng phụ trách giỏi, đoàn thanh niên .... mà tiêu chí dạy và học không được quan tâm. trong khi đó chất lượng môn dạy thì không nổi trội, lớp chủ nhiệm có học sinh thi lại, đánh nhau, bị hạ hạnh kiểm....chẵn thế mà còn xét giáo viên tiêu biểu. không hiểu nổi. 2. việc phát động thi đua do công đoàn, nhưng công đoàn lại không bảo vệ quyền lợi chính đáng cho giáo viên. chẵng lẽ công đoàn không biết cái giáo viên giỏi ... là phong trào, việc tham gia hay không tham gia đâu ảnh hưởng tới thi đua. nếu dùng nó để xét hoàn thành xuất sắc nhiệm vụ, hoàn thành tốt nhiệm vụ thì những người không tham gia hoặc tham gia không đạt giải thì phải xếp là không hoàn thành nhiệm vụ. 3. nói nhiều cũng vậy, ý kiến lần này hi vọng không phải ý kiến nữa.',\n",
       " 'cộng hòa xã hội chủ nghĩa việt nam độc lập - tự do - hạnh phúc --------------------------------------------------------------------- đơn: đóng góp ý kiến cần giuộc ngày:5/6/2024 kính gửi: công an huyện cần giuộc,ubnd huyện,tổng đài 1022 ( nội dung ) - kính gửi công an huyện cần giuộc, trưởng công an huyện cần giuộc, đây là văn bản công dân muốn gửi đến công an huyện nhằm mục đích đề nghị công an huyện tích cực tuần tra,nắm bắt tình hình giao thông trên khu vực. (1). thời gian gần đây công dân phát hiệu nhiều xe chạy ẩu tả,lấn lend,chèn ép xe nhỏ,cùng với nhiều xe đưa rước công nhân phóng bạt mạng trên tuyến ql50 từ cần giuộc về cần đước, đây cũng là một vấn đề đáng nghiêm trọng đã gây ra nhiều vụ tai nạn giao thông trên địa bàn huyện, làm tử vong nhiều người. cần được xử lý kịp thời (2). vấn đề tiếp theo tại trung tâm thị trấn cần giuộc về đêm khủng giờ từ 6h-9h tối hàng ngày tại công viên nguyễn thái bình có rất nhiều vụ việc các thanh thiếu niên chạy xe không đội nón bảo hiểm,ẩu đả,đánh nhau gây mất an ninh trật tự, và cũng phát hiện nhiều nhóm tụ tập phóng xe nẹt pô ra oai phố phường gây nguy hiểm tới các phương tiện tham gia giao thông khác.. cũng là vấn nạng nghiêm trọng và hậu quả khó nghĩ tới (3). vấn đề tiếp theo công dân ghi nhận được và có hình ảnh,video xác minh tại khu dân cư mộc, cầu cần giuộc- phước lại (về đêm khung giờ từ 7h-10h hàng ngày công dân ghi nhận rất nhiều trường hợp tụ tập phóng xe rú ga gây náo loạn khu dân cư có nhiều hộ dân sinh sống ven đường) - như trên là 3 vấn đề về tình hình ăn toàn giao thông công dân đã ghi nhận trong thời gian vừa qua, (và công dân cũng đề nghị công an huyện cần giuộc tích cực tuần tra các điểm như trên mà công dân đã phản ánh và tuần tra hàng tuần để bảo đảm ăn toàn giao thông, và tuyên truyền ý thức cho nhân dân,ai sai phạm là xử lý nghiêm. - vì nước quên thân vì dân phục vụ - công dân mong trưởng công an huyện cần giuộc độc và thầu hiểu tiếng nói của nhân dân - công dân kính gửi đến tổng đài 1022 kính mong tổng đài phê duyệt xử lý giúp nhân dân xin cảm ơn + có hình ảnh,video + lưu: công dân',\n",
       " 'điện lực đức hoà không đảm bảo được đủ điện cho người dân. tình trạng cúp điện xảy ra liên tục vào các buổi tối, điện chập chờn liên tục, làm ảnh hưởng tới các thiết bị điện, đời sống của các hộ gia đình (đặc biệt là gia đình có con nhỏ). điện cúp tới hơn 1 giờ sáng thì làm sao người dân có thể đảm bảo được sức khoẻ? khi xảy ra mất điện, không được hỗ trợ từ evn dù đã liên lạc đường dây nóng rất nhiều!']"
      ]
     },
     "execution_count": 18,
     "metadata": {},
     "output_type": "execute_result"
    }
   ],
   "source": [
    "text = [' '.join(t.strip().split()) for t in tqdm(text)]\n",
    "text[:16]"
   ]
  },
  {
   "cell_type": "markdown",
   "metadata": {},
   "source": [
    "# Remove Punctuation"
   ]
  },
  {
   "cell_type": "code",
   "execution_count": 19,
   "metadata": {},
   "outputs": [
    {
     "name": "stderr",
     "output_type": "stream",
     "text": [
      "100%|██████████| 2411/2411 [00:00<00:00, 3653.37it/s]\n",
      "100%|██████████| 2411/2411 [00:00<00:00, 10506.46it/s]\n"
     ]
    }
   ],
   "source": [
    "tokens = [word_tokenize(c) for c in tqdm(text)]\n",
    "tokenizer = RegexpTokenizer(r'\\w+')\n",
    "tokens = [[\"\".join(tokenizer.tokenize(word)) for word in t \n",
    "           if len(tokenizer.tokenize(word)) > 0] for t in tqdm(tokens)]\n",
    "text = [\" \".join(t) for t in tokens]"
   ]
  },
  {
   "cell_type": "code",
   "execution_count": 20,
   "metadata": {},
   "outputs": [
    {
     "data": {
      "text/plain": [
       "['tự ý rào cột điện lấn chiếm vỉa hè có sự cố và kéo dây điện không thực hiện được cần thao tác khi không có người o nhà phải leo hàng rào mong bên điện lực và chính quyền có hướng xử lý',\n",
       " 'thưa các ban ngành đoàn thể cơ quan chức năngnay tôi viết phản ánh này xin trình bày bức xúc chung của riêng tôi cũng như bà con lối xóm trong khu là hiện trạng tụ tập nhiều thành phần bất hảo không rõ lí lịch nhân thân ăn nhậumở loa hát karaoke với công suất lớnđậu xeđặt bàn ghếngồi ăn nhậu giữa lòng đường lấn chiếm hết cả lối đi chunggây bức xúc và ảnh hưởng rất nhiều đến cuộc sống của người dân nơi đâynhiều lần tôi có qua nhắc nhở và đã bị họ hành hungđe dọatình trạng này kéo dài hơn 5 năm naychính quyền địa phương vào nhắc nhở nhưng cũng không thay đổinay tôi kính mong chính quyền chức năng vào cuộc giúp bà con nơi đây có được không khí yên lành để an cư lạc nghiệptôi xin chân thành cảm ơn',\n",
       " 'nhờ chính quyền long an có biện pháp giải quyết vấn đề về trực tự nơi này vì đã rất nhiều lần nơi này thường tụ tập mở loa kẹo kéo rất lớn tụ tập ăn nhậu đậu xe ko còn lối đi cho người cuối hẻm hẻm thì nhỏ chỉ được 2m mà họ để ghế đá như hình chắn hết lối đi em ở địa chỉ tổ 1 kp kim điền tt cần giuộc la hẽm đối diện kênh tâp đoàn 2 nhờ chính quyền can thiệp giải quyết giúp người dân nơi đây để có cuộc sống được bình yên sau giờ làm việc được nghĩ ngơi chân thành cảm ơn chính quyền các cấp',\n",
       " 'xóm tôi có 1 lối đi chung 2m nhưng hàng xóm tôi lúc nào cũng nhậu nhẹt chiếm lối đi bữa đó tôi có chạy xe ngang và va quẹt phải sau đó thì người nhà của bọn họ qua nhà tôi cãi vã rồi bắt đầu xông vào đánh cha con tôi người thì cầm dao người thì cầm gạch định truy sát gia đình tôi',\n",
       " 'vứt rác xuống đường kênh công vụ gây cản trở người dân lưu thông ô nhiễm môi trường gây động nước thành hố gây sụt lúng bờ kênh ảnh hưởng trực tiếp đến giao thông cho những hộ dân phía bên trong không thể lưu thông',\n",
       " 'tiền lương cá nhân của cavtt thì ít mà bắt buộc vô công đoàn vô rồi thì tiền gì cổng bắt đóng theo sự bắt buộc hết hơn riết rồi làm sao đủ xin hoạt gia đình được ạ',\n",
       " 'khói và chất thải của nhà máy',\n",
       " 'bãi rác đức huệ vẫn cháy âm ỉ khói rác phát sinh liên tục mùi hôi khó chịu khói độc hại lan xuống khu vực dân cư xung quanh rác thải sinh hoạt tập kết ở đây dù hiện tại chưa thể xử lý theo tiêu chuẩn môi trường nhưng rất cần được quản lý hợp lý an toàn nhằm hạn chế thấp nhất việc phát sinh thêm ô nhiễm kính mong quý lãnh đạo huyện đức huệ đặc biệt quan tâm hơn đến sức khoẻ người dân và người dân rất mong mỏi quý lãnh đạo nhanh chóng dập tắt hết khói tại khu vực này để có một bầu không khí trong lành để hít thở đảm bảo chất lượng cuộc sống người dân tại khu vực xin chân thành cảm ơn quý anh chị đã dành thời gian đọc phản ánh này hình chụp video đính kèm ghi nhận ngày 862024',\n",
       " 'hiện nay trên địa bàn xã thuận thành có rất nhiều thửa đất trồng lúa bị bỏ hoang từ nhiều năm do chủ ruộng tại địa phương đã bán cho chủ khác từ địa phương khác nhiều nhất là từ thành phố hồ chí minh mua để kinh doanh theo dạng mua đi bán lại hưởng chênh lệch giá gây nên hệ quả như cỏ mọc um tùm ô nhiễm môi trường do nhiều người vứt rác chất thải vào khu vực bỏ hoang này gây lãng phí nguồn tài nguyên đất tuy nhiên nhiều năm qua chính quyền địa phương cũng không thật sự quan tâm dù nhiều lần cử tri phản ánh trong các cuộc họp tiếp xúc cử tri nhưng địa phương chỉ trả lời chung chung là vận động chủ đất về canh tác hoặc cho dân địa phương thuê lại để canh tác và đã giải quyết xong hết nhưng thật sự trả lời chưa đúng vì cần rất nhiều thửa đất bỏ hoang và không thể canh tác vì các chủ đất này tự ý hạ mặt ruộng để lấy đất đem bán và tiến hành làm hàng rào cột xi măng và kéo lưới b40 rất chắc chắn việc này gây ảnh hưởng đến những đám ruộng kế bên do bị nhiễm mặn và chuột ẩn núp từ đám ruộng bỏ hoang này sang cắn phá gây thiệt hại rất lớn chính vì lẽ đó nên tôi đề nghị như sau chính quyền các cấp có hướng điều tra thu thập thông tin thường xuyên và lâu dài những đám ruộng bỏ hoang này nhằm yêu cầu chủ đất canh tác không bỏ hoang gây lãng phí nguồn tài nguyên đất nếu không khắc phục thì phải thu hồi và cho các hộ khác có nhu cầu thuê tạo nguồn thu cho ngân sách nhà nước',\n",
       " 'thành phố tân an là đô thị phát triển đô thị vệ tinh của tphcm sắp tiến tới đô thị loại 1 tiềm năng thu hút các dân cư ở tphcm về ở thêm nữa nhu cầu sử dụng oto ở đây càng ngày càng tăng do có các showroom oto kích thích tiêu dùng tuy nhiên hạ tầng đồ thị lề đường sân trước nhà phố và bãi giữ xe oto không đảm bảo đáp ứng nhu cầu đổ xe của người dân hiện tại và tương lai dẫn đến có nhiều hộ dân chiếm đậu xe oto trên lề đường hoặc công viên trước nhà làm ảnh hưởng cảnh quan đô thị ảnh hưởng giao thông và người đi bộ tôi đã gửi đơn đến phòng quản lý đô thị tp hỏi về nhu cầu xây dựng hầm trên lô đất của tôi ở khu dân cư đại dương phường 6 thì trả lời văn bản đến tôi không được phép xây hầmbán hầm trong khi các dự án ngân hàng văn phòng lại được phép xây dựng hầm là chưa đồng bộ chưa khai thác đáp ứng hết nhu cầu của ngườ dân có nhu cầu xây hầm phục vụ kinh doanh đổ xe qua đây tôi kiến nghị sở xây dựng tp tân an nghiên cứu xây dựng lại quy hoạch không gian xây dựng ngầm đô thị tham mưu uỷ ban nhân dân tỉnh để sớm triển khai sửa đổi các quy hoạch liên quan đáp ứng nhu cầu người dân trung tâm thành phố trước xu hướng dịch chuyển sản xuất công nghiệp ra ngoài tphcm và người dân tphcm có oto riêng nhập cư về long an và tp tân an sinh sống',\n",
       " 'đoạn đường đt 824 từ tua 1 đến cống bà bông các quán đèn mờ hiện nay kg còn nhưng bây giờ quán gái bán dâm đang phát triển ngày càng nhiều vì văn hóa cộng đồng đề nghị cơ quan chức nắng triệt để truy quyét tệ nạn mại dâm này xứng đáng là ấp văn hóa nâng cao',\n",
       " 'chợ phường 3 tại cái tuyến đường số 1 2 khu dân cư chợ tình trạng buôn bán các hộ dân đậu xe du lịch lấn chiếm vỉa hè đi bộ đậu xe gây cản trở người đi bộ đề nghị chính quyền xem xét trả lại vỉa hè cho người đi bộ',\n",
       " 'hiện tại ngã 5 bình nhựt lại bị tai nạn giao thông với tình trạng ùn ứ xe rất lâu nhưng chưa thấy cơ quan tác động mong nhận phản hồi để người dân khu vực này an tâm khi lưu thông qua đường',\n",
       " 'giáo dục và đào tạo đến hẹn lại lên là một giáo viên thcs thị trấn tân hưng chúng tôi không sợ cực không sợ khổ chỉ sợ không công bằng hằng năm điều diễn ra việc ưu tiên xét thi đua cho hội đồng xét thi đua rõ nhất năm nay 90 thành viên hội đồng thi đua đều được đề nghị khen thưởng chỉ còn lại 1 cô thư ký và 1 giáo viên khi được hỏi tiêu chuẩn nào để xét thi đua cho cô a và thầy b nhằm đảm bảo công bằng thì không có chỉ hội đồng làm việc sau đó thông báo cho giáo viên trường xem có ý kiến gì không không ít giáo viên đã khóc khi không được bảo vệ quyền và lợi ích chính đáng tôi thấy rất bất công 1 giáo viên được đánh giá hoàn thành xuất sắc nhiệm vụ chỉ cần công nhận đạt giáo viên giỏi tổng phụ trách giỏi đoàn thanh niên mà tiêu chí dạy và học không được quan tâm trong khi đó chất lượng môn dạy thì không nổi trội lớp chủ nhiệm có học sinh thi lại đánh nhau bị hạ hạnh kiểm chẵn thế mà còn xét giáo viên tiêu biểu không hiểu nổi 2 việc phát động thi đua do công đoàn nhưng công đoàn lại không bảo vệ quyền lợi chính đáng cho giáo viên chẵng lẽ công đoàn không biết cái giáo viên giỏi là phong trào việc tham gia hay không tham gia đâu ảnh hưởng tới thi đua nếu dùng nó để xét hoàn thành xuất sắc nhiệm vụ hoàn thành tốt nhiệm vụ thì những người không tham gia hoặc tham gia không đạt giải thì phải xếp là không hoàn thành nhiệm vụ 3 nói nhiều cũng vậy ý kiến lần này hi vọng không phải ý kiến nữa',\n",
       " 'cộng hòa xã hội chủ nghĩa việt nam độc lập tự do hạnh phúc đơn đóng góp ý kiến cần giuộc ngày562024 kính gửi công an huyện cần giuộc ubnd huyện tổng đài 1022 nội dung kính gửi công an huyện cần giuộc trưởng công an huyện cần giuộc đây là văn bản công dân muốn gửi đến công an huyện nhằm mục đích đề nghị công an huyện tích cực tuần tra nắm bắt tình hình giao thông trên khu vực 1 thời gian gần đây công dân phát hiệu nhiều xe chạy ẩu tả lấn lend chèn ép xe nhỏ cùng với nhiều xe đưa rước công nhân phóng bạt mạng trên tuyến ql50 từ cần giuộc về cần đước đây cũng là một vấn đề đáng nghiêm trọng đã gây ra nhiều vụ tai nạn giao thông trên địa bàn huyện làm tử vong nhiều người cần được xử lý kịp thời 2 vấn đề tiếp theo tại trung tâm thị trấn cần giuộc về đêm khủng giờ từ 6h9h tối hàng ngày tại công viên nguyễn thái bình có rất nhiều vụ việc các thanh thiếu niên chạy xe không đội nón bảo hiểm ẩu đả đánh nhau gây mất an ninh trật tự và cũng phát hiện nhiều nhóm tụ tập phóng xe nẹt pô ra oai phố phường gây nguy hiểm tới các phương tiện tham gia giao thông khác cũng là vấn nạng nghiêm trọng và hậu quả khó nghĩ tới 3 vấn đề tiếp theo công dân ghi nhận được và có hình ảnh video xác minh tại khu dân cư mộc cầu cần giuộc phước lại về đêm khung giờ từ 7h10h hàng ngày công dân ghi nhận rất nhiều trường hợp tụ tập phóng xe rú ga gây náo loạn khu dân cư có nhiều hộ dân sinh sống ven đường như trên là 3 vấn đề về tình hình ăn toàn giao thông công dân đã ghi nhận trong thời gian vừa qua và công dân cũng đề nghị công an huyện cần giuộc tích cực tuần tra các điểm như trên mà công dân đã phản ánh và tuần tra hàng tuần để bảo đảm ăn toàn giao thông và tuyên truyền ý thức cho nhân dân ai sai phạm là xử lý nghiêm vì nước quên thân vì dân phục vụ công dân mong trưởng công an huyện cần giuộc độc và thầu hiểu tiếng nói của nhân dân công dân kính gửi đến tổng đài 1022 kính mong tổng đài phê duyệt xử lý giúp nhân dân xin cảm ơn có hình ảnh video lưu công dân',\n",
       " 'điện lực đức hoà không đảm bảo được đủ điện cho người dân tình trạng cúp điện xảy ra liên tục vào các buổi tối điện chập chờn liên tục làm ảnh hưởng tới các thiết bị điện đời sống của các hộ gia đình đặc biệt là gia đình có con nhỏ điện cúp tới hơn 1 giờ sáng thì làm sao người dân có thể đảm bảo được sức khoẻ khi xảy ra mất điện không được hỗ trợ từ evn dù đã liên lạc đường dây nóng rất nhiều',\n",
       " 'giáo dục đến hẹn lại lên là một giáo viên thcs thị trấn tân hưng chúng tôi không sợ cực không sợ khổ chỉ sợ không công bằng hằng năm điều diễn ra việc ưu tiên xét thi đua cho hội đồng xét thi đua rõ nhất năm nay 90 thành viên hội đồng thi đua đều được đề nghị khen thưởng chỉ còn lại 1 cô thư ký và 1 giáo viên khi được hỏi tiêu chuẩn nào để xét thi đua cho cô a và thầy b nhằm đảm bảo công bằng thì không có chỉ hội đồng làm việc sau đó thông báo cho giáo viên trường xem có ý kiến gì không không ít giáo viên đã khóc khi không được bảo vệ quyền và lợi ích chính đáng tôi thấy rất bất công 1 giáo viên được đánh giá hoàn thành xuất sắc nhiệm vụ chỉ cần công nhận đạt giáo viên giỏi tổng phụ trách giỏi đoàn thanh niên mà tiêu chí dạy và học không được quan tâm trong khi đó chất lượng môn dạy thì không nổi trội lớp chủ nhiệm có học sinh thi lại đánh nhau bị hạ hạnh kiểm chẵn thế mà còn xét giáo viên tiêu biểu không hiểu nổi 2 việc phát động thi đua do công đoàn nhưng công đoàn lại không bảo vệ quyền lợi chính đáng cho giáo viên chẵng lẽ công đoàn không biết cái giáo viên giỏi là phong trào việc tham gia hay không tham gia đâu ảnh hưởng tới thi đua nếu dùng nó để xét hoàn thành xuất sắc nhiệm vụ hoàn thành tốt nhiệm vụ thì những người không tham gia hoặc tham gia không đạt giải thì phải xếp là không hoàn thành nhiệm vụ 3 nói nhiều cũng vậy ý kiến lần này hi vọng không phải ý kiến nữa',\n",
       " 'sử dụng điện thoại khi lái xe ô tô nguy cơ cao gây tai nạn giao thông cho người đi đường đăng tải video clip lên mạng xã hội tiktok nhằm câu view câu like lan truyền cổ vũ cho hành vi vi phạm bình luận thách thức pháp luật khi có người cho đó là hành vi không đúng bằng chứng về hành vi vi phạm đã được sao chép và tổng hợp đầy đủ tại đây https drivegooglecomdrivefolders1k70pzjsk7gaqwd6y84yhof21m52lxfl nhờ cơ quan công an dựa vào thông tin biển số xe để xử lý hành vi nguy hiểm đến nơi đến chốn nhằm tuyên truyền răn đe tránh trường hợp hình thành xu hướng không tốt trên mạng xã hội gây nguy cơ mất trật tự an toàn giao thông xin cám ơn',\n",
       " 'hiện tại từ năm 2023 đến nay tại ấp vĩnh bửu xã vĩnh đại huyện tân hưng tỉnh long an bà con dân không có nước sạch sử dụng',\n",
       " 'xe ba bánh cơi nới thùng gắn 5 bánh gắn động cơ 250cc']"
      ]
     },
     "execution_count": 20,
     "metadata": {},
     "output_type": "execute_result"
    }
   ],
   "source": [
    "text[:20]"
   ]
  },
  {
   "cell_type": "code",
   "execution_count": 21,
   "metadata": {},
   "outputs": [],
   "source": [
    "data['text'] = text"
   ]
  },
  {
   "cell_type": "code",
   "execution_count": 22,
   "metadata": {},
   "outputs": [
    {
     "data": {
      "image/png": "[encoded data removed]",
      "text/plain": [
       "<Figure size 500x500 with 1 Axes>"
      ]
     },
     "metadata": {},
     "output_type": "display_data"
    }
   ],
   "source": [
    "tokenizer = AutoTokenizer.from_pretrained(\"vinai/phobert-base\", use_fast=False)\n",
    "\n",
    "all_data = data['text']\n",
    "all_data = [' '.join(simple_preprocess(text)) for text in all_data]\n",
    "\n",
    "def split_text_into_chunks(text, tokenizer, max_length=256):\n",
    "    encoded_text = tokenizer.encode(text, add_special_tokens=False)\n",
    "    chunks = [encoded_text[i:i+max_length] for i in range(0, len(encoded_text), max_length)]\n",
    "    return [tokenizer.build_inputs_with_special_tokens(chunk) for chunk in chunks]\n",
    "\n",
    "# Apply the splitting function\n",
    "encoded_chunks = [split_text_into_chunks(text, tokenizer) for text in all_data]\n",
    "encoded_chunks_flat = [item for sublist in encoded_chunks for item in sublist]\n",
    "token_lens = [len(chunk) for chunk in encoded_chunks_flat]\n",
    "\n",
    "# Plot the token lengths\n",
    "sns.displot(token_lens)\n",
    "plt.xlim([0, max(token_lens)])\n",
    "plt.xlabel('Token Count')\n",
    "plt.show()"
   ]
  },
  {
   "cell_type": "code",
   "execution_count": 23,
   "metadata": {},
   "outputs": [
    {
     "data": {
      "text/html": [
       "<div>\n",
       "<style scoped>\n",
       "    .dataframe tbody tr th:only-of-type {\n",
       "        vertical-align: middle;\n",
       "    }\n",
       "\n",
       "    .dataframe tbody tr th {\n",
       "        vertical-align: top;\n",
       "    }\n",
       "\n",
       "    .dataframe thead th {\n",
       "        text-align: right;\n",
       "    }\n",
       "</style>\n",
       "<table border=\"1\" class=\"dataframe\">\n",
       "  <thead>\n",
       "    <tr style=\"text-align: right;\">\n",
       "      <th></th>\n",
       "      <th>label</th>\n",
       "      <th>text</th>\n",
       "    </tr>\n",
       "  </thead>\n",
       "  <tbody>\n",
       "    <tr>\n",
       "      <th>0</th>\n",
       "      <td>__label__KPA</td>\n",
       "      <td>tự ý rào cột điện lấn chiếm vỉa hè có sự cố và...</td>\n",
       "    </tr>\n",
       "    <tr>\n",
       "      <th>1</th>\n",
       "      <td>__label__KPA</td>\n",
       "      <td>thưa các ban ngành đoàn thể cơ quan chức năngn...</td>\n",
       "    </tr>\n",
       "    <tr>\n",
       "      <th>2</th>\n",
       "      <td>__label__KPA</td>\n",
       "      <td>nhờ chính quyền long an có biện pháp giải quyế...</td>\n",
       "    </tr>\n",
       "    <tr>\n",
       "      <th>3</th>\n",
       "      <td>__label__KPA</td>\n",
       "      <td>xóm tôi có 1 lối đi chung 2m nhưng hàng xóm tô...</td>\n",
       "    </tr>\n",
       "    <tr>\n",
       "      <th>4</th>\n",
       "      <td>__label__KPA</td>\n",
       "      <td>vứt rác xuống đường kênh công vụ gây cản trở n...</td>\n",
       "    </tr>\n",
       "  </tbody>\n",
       "</table>\n",
       "</div>"
      ],
      "text/plain": [
       "          label                                               text\n",
       "0  __label__KPA  tự ý rào cột điện lấn chiếm vỉa hè có sự cố và...\n",
       "1  __label__KPA  thưa các ban ngành đoàn thể cơ quan chức năngn...\n",
       "2  __label__KPA  nhờ chính quyền long an có biện pháp giải quyế...\n",
       "3  __label__KPA  xóm tôi có 1 lối đi chung 2m nhưng hàng xóm tô...\n",
       "4  __label__KPA  vứt rác xuống đường kênh công vụ gây cản trở n..."
      ]
     },
     "execution_count": 23,
     "metadata": {},
     "output_type": "execute_result"
    }
   ],
   "source": [
    "data.head(5)"
   ]
  },
  {
   "cell_type": "markdown",
   "metadata": {},
   "source": [
    "# Remove Stopword"
   ]
  },
  {
   "cell_type": "code",
   "execution_count": 3,
   "metadata": {},
   "outputs": [],
   "source": [
    "from stopwordsiso import stopwords\n",
    "\n",
    "vietnamese_stopwords = stopwords(['vi'])"
   ]
  },
  {
   "cell_type": "code",
   "execution_count": 5,
   "metadata": {},
   "outputs": [
    {
     "data": {
      "text/plain": [
       "645"
      ]
     },
     "execution_count": 5,
     "metadata": {},
     "output_type": "execute_result"
    }
   ],
   "source": [
    "len(vietnamese_stopwords)"
   ]
  },
  {
   "cell_type": "code",
   "execution_count": 24,
   "metadata": {},
   "outputs": [],
   "source": [
    "def remove_stopwords(sentence, stopwords):\n",
    "    tokens = sentence.split()\n",
    "    filtered_tokens = [word for word in tokens if word.lower() not in stopwords]\n",
    "    return ' '.join(filtered_tokens)\n",
    "\n",
    "data['text_cleaned'] = data['text'].apply(lambda x: remove_stopwords(x, vietnamese_stopwords))"
   ]
  },
  {
   "cell_type": "code",
   "execution_count": 25,
   "metadata": {},
   "outputs": [
    {
     "data": {
      "text/plain": [
       "Index(['label', 'text', 'text_cleaned'], dtype='object')"
      ]
     },
     "execution_count": 25,
     "metadata": {},
     "output_type": "execute_result"
    }
   ],
   "source": [
    "data.columns"
   ]
  },
  {
   "cell_type": "code",
   "execution_count": 26,
   "metadata": {},
   "outputs": [
    {
     "data": {
      "text/plain": [
       "(2411, 3)"
      ]
     },
     "execution_count": 26,
     "metadata": {},
     "output_type": "execute_result"
    }
   ],
   "source": [
    "data.shape"
   ]
  },
  {
   "cell_type": "code",
   "execution_count": 27,
   "metadata": {},
   "outputs": [
    {
     "data": {
      "image/png": "[encoded data removed]",
      "text/plain": [
       "<Figure size 500x500 with 1 Axes>"
      ]
     },
     "metadata": {},
     "output_type": "display_data"
    }
   ],
   "source": [
    "tokenizer = AutoTokenizer.from_pretrained(\"vinai/phobert-base\", use_fast=False)\n",
    "\n",
    "all_data = data['text_cleaned']\n",
    "all_data = [' '.join(simple_preprocess(text)) for text in all_data]\n",
    "\n",
    "def split_text_into_chunks(text, tokenizer, max_length=256):\n",
    "    encoded_text = tokenizer.encode(text, add_special_tokens=False)\n",
    "    chunks = [encoded_text[i:i+max_length] for i in range(0, len(encoded_text), max_length)]\n",
    "    return [tokenizer.build_inputs_with_special_tokens(chunk) for chunk in chunks]\n",
    "\n",
    "# Apply the splitting function\n",
    "encoded_chunks = [split_text_into_chunks(text, tokenizer) for text in all_data]\n",
    "encoded_chunks_flat = [item for sublist in encoded_chunks for item in sublist]\n",
    "token_lens = [len(chunk) for chunk in encoded_chunks_flat]\n",
    "\n",
    "# Plot the token lengths\n",
    "sns.displot(token_lens)\n",
    "plt.xlim([0, max(token_lens)])\n",
    "plt.xlabel('Token Count')\n",
    "plt.show()"
   ]
  },
  {
   "cell_type": "code",
   "execution_count": 28,
   "metadata": {},
   "outputs": [],
   "source": [
    "data.drop(columns=\"text\", axis=1, inplace=True)"
   ]
  },
  {
   "cell_type": "code",
   "execution_count": 29,
   "metadata": {},
   "outputs": [
    {
     "data": {
      "text/plain": [
       "Index(['label', 'text_cleaned'], dtype='object')"
      ]
     },
     "execution_count": 29,
     "metadata": {},
     "output_type": "execute_result"
    }
   ],
   "source": [
    "data.columns"
   ]
  },
  {
   "cell_type": "code",
   "execution_count": 30,
   "metadata": {},
   "outputs": [],
   "source": [
    "data.rename(columns={'text_cleaned':'text'}, inplace=True)"
   ]
  },
  {
   "cell_type": "code",
   "execution_count": 31,
   "metadata": {},
   "outputs": [
    {
     "data": {
      "text/html": [
       "<div>\n",
       "<style scoped>\n",
       "    .dataframe tbody tr th:only-of-type {\n",
       "        vertical-align: middle;\n",
       "    }\n",
       "\n",
       "    .dataframe tbody tr th {\n",
       "        vertical-align: top;\n",
       "    }\n",
       "\n",
       "    .dataframe thead th {\n",
       "        text-align: right;\n",
       "    }\n",
       "</style>\n",
       "<table border=\"1\" class=\"dataframe\">\n",
       "  <thead>\n",
       "    <tr style=\"text-align: right;\">\n",
       "      <th></th>\n",
       "      <th>label</th>\n",
       "      <th>text</th>\n",
       "    </tr>\n",
       "  </thead>\n",
       "  <tbody>\n",
       "    <tr>\n",
       "      <th>0</th>\n",
       "      <td>__label__KPA</td>\n",
       "      <td>tự rào cột điện lấn chiếm vỉa hè cố kéo dây đi...</td>\n",
       "    </tr>\n",
       "    <tr>\n",
       "      <th>1</th>\n",
       "      <td>__label__KPA</td>\n",
       "      <td>thưa ban ngành đoàn thể quan chức năngnay viết...</td>\n",
       "    </tr>\n",
       "    <tr>\n",
       "      <th>2</th>\n",
       "      <td>__label__KPA</td>\n",
       "      <td>nhờ quyền long an biện pháp giải vấn đề trực t...</td>\n",
       "    </tr>\n",
       "    <tr>\n",
       "      <th>3</th>\n",
       "      <td>__label__KPA</td>\n",
       "      <td>xóm 1 lối chung 2m hàng xóm nhậu nhẹt chiếm lố...</td>\n",
       "    </tr>\n",
       "    <tr>\n",
       "      <th>4</th>\n",
       "      <td>__label__KPA</td>\n",
       "      <td>vứt rác đường kênh công vụ gây cản trở dân lưu...</td>\n",
       "    </tr>\n",
       "  </tbody>\n",
       "</table>\n",
       "</div>"
      ],
      "text/plain": [
       "          label                                               text\n",
       "0  __label__KPA  tự rào cột điện lấn chiếm vỉa hè cố kéo dây đi...\n",
       "1  __label__KPA  thưa ban ngành đoàn thể quan chức năngnay viết...\n",
       "2  __label__KPA  nhờ quyền long an biện pháp giải vấn đề trực t...\n",
       "3  __label__KPA  xóm 1 lối chung 2m hàng xóm nhậu nhẹt chiếm lố...\n",
       "4  __label__KPA  vứt rác đường kênh công vụ gây cản trở dân lưu..."
      ]
     },
     "execution_count": 31,
     "metadata": {},
     "output_type": "execute_result"
    }
   ],
   "source": [
    "data.head(5)"
   ]
  },
  {
   "cell_type": "markdown",
   "metadata": {},
   "source": [
    "# Word Segmentation"
   ]
  },
  {
   "cell_type": "code",
   "execution_count": 32,
   "metadata": {},
   "outputs": [
    {
     "name": "stderr",
     "output_type": "stream",
     "text": [
      "Hardware accelerator e.g. GPU is available in the environment, but no `device` argument is passed to the `Pipeline` object. Model will be on CPU.\n"
     ]
    }
   ],
   "source": [
    "# Load the tokenizer and model\n",
    "tokenizer_ = AutoTokenizer.from_pretrained(\"./Word_Segmentation/NlpHUST/vi-word-segmentation\")\n",
    "model_ = AutoModelForTokenClassification.from_pretrained(\"./Word_Segmentation/NlpHUST/vi-word-segmentation\")\n",
    "\n",
    "# Define the NLP pipeline\n",
    "nlp = pipeline(\"token-classification\", model=model_, tokenizer=tokenizer_)\n",
    "\n",
    "def segment_text_with_nlp(text, max_length=512):\n",
    "    # Tokenize the text and split into chunks\n",
    "    tokens = tokenizer_(text, return_tensors=\"pt\", truncation=False, padding=False)\n",
    "    input_ids = tokens['input_ids'].squeeze().tolist()\n",
    "\n",
    "    # Split input_ids into manageable chunks\n",
    "    chunk_size = max_length - 2  # Reserve space for [CLS] and [SEP]\n",
    "    chunks = [input_ids[i:i + chunk_size] for i in range(0, len(input_ids), chunk_size)]\n",
    "    \n",
    "    words = []\n",
    "    for chunk in chunks:\n",
    "        # Add special tokens to each chunk\n",
    "        chunk_with_special_tokens = [tokenizer_.cls_token_id] + chunk + [tokenizer_.sep_token_id]\n",
    "        chunk_text = tokenizer_.decode(chunk_with_special_tokens, skip_special_tokens=True)\n",
    "        \n",
    "        # Process the chunk using the pipeline\n",
    "        ner_results = nlp(chunk_text)\n",
    "        \n",
    "        for e in ner_results:\n",
    "            if e[\"word\"].startswith(\"##\"):\n",
    "                words[-1] += e[\"word\"].replace(\"##\", \"\")\n",
    "            elif e[\"entity\"] == \"I\":\n",
    "                words[-1] += \"_\" + e[\"word\"]\n",
    "            else:\n",
    "                words.append(e[\"word\"])\n",
    "    \n",
    "    return ' '.join(words)"
   ]
  },
  {
   "cell_type": "code",
   "execution_count": 33,
   "metadata": {},
   "outputs": [],
   "source": [
    "# data_ = {\n",
    "#     \"text\": [\n",
    "#         \"Đây là một ví dụ về phân đoạn từ tiếng Việt.\",\n",
    "#         \"Chào mừng bạn đến với thế giới của NLP.\",\n",
    "#         \"Phát biểu tại phiên thảo luận về tình hình kinh tế xã hội của Quốc hội sáng 28/10 , Bộ trưởng Bộ LĐ-TB&XH Đào Ngọc Dung khái quát , tại phiên khai mạc kỳ họp , lãnh đạo chính phủ đã báo cáo , đề cập tương đối rõ ràng về việc thực hiện các chính sách an sinh xã hội\" * 10  # Simulate a long text\n",
    "#     ]\n",
    "# }\n",
    "\n",
    "# df = pd.DataFrame(data_)\n",
    "\n",
    "# df[\"segmented_text\"] = df[\"text\"].apply(segment_text_with_nlp)\n",
    "\n",
    "# # Display the result\n",
    "# print(df)"
   ]
  },
  {
   "cell_type": "code",
   "execution_count": 34,
   "metadata": {},
   "outputs": [
    {
     "name": "stderr",
     "output_type": "stream",
     "text": [
      "Asking to truncate to max_length but no maximum length is provided and the model has no predefined maximum length. Default to no truncation.\n"
     ]
    },
    {
     "data": {
      "text/plain": [
       "(2411, 3)"
      ]
     },
     "execution_count": 34,
     "metadata": {},
     "output_type": "execute_result"
    }
   ],
   "source": [
    "data[\"segmented_text\"] = data[\"text\"].apply(segment_text_with_nlp)\n",
    "data.shape"
   ]
  },
  {
   "cell_type": "code",
   "execution_count": 35,
   "metadata": {},
   "outputs": [
    {
     "data": {
      "text/html": [
       "<div>\n",
       "<style scoped>\n",
       "    .dataframe tbody tr th:only-of-type {\n",
       "        vertical-align: middle;\n",
       "    }\n",
       "\n",
       "    .dataframe tbody tr th {\n",
       "        vertical-align: top;\n",
       "    }\n",
       "\n",
       "    .dataframe thead th {\n",
       "        text-align: right;\n",
       "    }\n",
       "</style>\n",
       "<table border=\"1\" class=\"dataframe\">\n",
       "  <thead>\n",
       "    <tr style=\"text-align: right;\">\n",
       "      <th></th>\n",
       "      <th>label</th>\n",
       "      <th>text</th>\n",
       "      <th>segmented_text</th>\n",
       "    </tr>\n",
       "  </thead>\n",
       "  <tbody>\n",
       "    <tr>\n",
       "      <th>0</th>\n",
       "      <td>__label__KPA</td>\n",
       "      <td>tự rào cột điện lấn chiếm vỉa hè cố kéo dây đi...</td>\n",
       "      <td>tự rào cột điện lấn_chiếm vỉa_hè cố kéo dây_đi...</td>\n",
       "    </tr>\n",
       "    <tr>\n",
       "      <th>1</th>\n",
       "      <td>__label__KPA</td>\n",
       "      <td>thưa ban ngành đoàn thể quan chức năngnay viết...</td>\n",
       "      <td>thưa ban_ngành đoàn_thể quan_chức_năngnay viết...</td>\n",
       "    </tr>\n",
       "    <tr>\n",
       "      <th>2</th>\n",
       "      <td>__label__KPA</td>\n",
       "      <td>nhờ quyền long an biện pháp giải vấn đề trực t...</td>\n",
       "      <td>nhờ quyền long_an biện_pháp giải vấn_đề trực t...</td>\n",
       "    </tr>\n",
       "    <tr>\n",
       "      <th>3</th>\n",
       "      <td>__label__KPA</td>\n",
       "      <td>xóm 1 lối chung 2m hàng xóm nhậu nhẹt chiếm lố...</td>\n",
       "      <td>xóm 1 lối chung 2m hàng_xóm nhậu_nhẹt chiếm lố...</td>\n",
       "    </tr>\n",
       "    <tr>\n",
       "      <th>4</th>\n",
       "      <td>__label__KPA</td>\n",
       "      <td>vứt rác đường kênh công vụ gây cản trở dân lưu...</td>\n",
       "      <td>vứt rác đường kênh công_vụ gây cản_trở dân lưu...</td>\n",
       "    </tr>\n",
       "  </tbody>\n",
       "</table>\n",
       "</div>"
      ],
      "text/plain": [
       "          label                                               text  \\\n",
       "0  __label__KPA  tự rào cột điện lấn chiếm vỉa hè cố kéo dây đi...   \n",
       "1  __label__KPA  thưa ban ngành đoàn thể quan chức năngnay viết...   \n",
       "2  __label__KPA  nhờ quyền long an biện pháp giải vấn đề trực t...   \n",
       "3  __label__KPA  xóm 1 lối chung 2m hàng xóm nhậu nhẹt chiếm lố...   \n",
       "4  __label__KPA  vứt rác đường kênh công vụ gây cản trở dân lưu...   \n",
       "\n",
       "                                      segmented_text  \n",
       "0  tự rào cột điện lấn_chiếm vỉa_hè cố kéo dây_đi...  \n",
       "1  thưa ban_ngành đoàn_thể quan_chức_năngnay viết...  \n",
       "2  nhờ quyền long_an biện_pháp giải vấn_đề trực t...  \n",
       "3  xóm 1 lối chung 2m hàng_xóm nhậu_nhẹt chiếm lố...  \n",
       "4  vứt rác đường kênh công_vụ gây cản_trở dân lưu...  "
      ]
     },
     "execution_count": 35,
     "metadata": {},
     "output_type": "execute_result"
    }
   ],
   "source": [
    "data.head(5)"
   ]
  },
  {
   "cell_type": "code",
   "execution_count": 36,
   "metadata": {},
   "outputs": [],
   "source": [
    "data.drop(columns=\"text\", axis=1, inplace=True)"
   ]
  },
  {
   "cell_type": "code",
   "execution_count": 37,
   "metadata": {},
   "outputs": [],
   "source": [
    "data.rename(columns={'segmented_text':'text'}, inplace=True)"
   ]
  },
  {
   "cell_type": "code",
   "execution_count": 38,
   "metadata": {},
   "outputs": [
    {
     "data": {
      "text/plain": [
       "Index(['label', 'text'], dtype='object')"
      ]
     },
     "execution_count": 38,
     "metadata": {},
     "output_type": "execute_result"
    }
   ],
   "source": [
    "data.columns"
   ]
  },
  {
   "cell_type": "code",
   "execution_count": 39,
   "metadata": {},
   "outputs": [
    {
     "data": {
      "text/plain": [
       "(2411, 2)"
      ]
     },
     "execution_count": 39,
     "metadata": {},
     "output_type": "execute_result"
    }
   ],
   "source": [
    "data.shape"
   ]
  },
  {
   "cell_type": "code",
   "execution_count": 40,
   "metadata": {},
   "outputs": [
    {
     "data": {
      "image/png": "[encoded data removed]",
      "text/plain": [
       "<Figure size 500x500 with 1 Axes>"
      ]
     },
     "metadata": {},
     "output_type": "display_data"
    }
   ],
   "source": [
    "tokenizer = AutoTokenizer.from_pretrained(\"vinai/phobert-base\", use_fast=False)\n",
    "\n",
    "all_data = data['text']\n",
    "all_data = [' '.join(simple_preprocess(text)) for text in all_data]\n",
    "\n",
    "def split_text_into_chunks(text, tokenizer, max_length=256):\n",
    "    encoded_text = tokenizer.encode(text, add_special_tokens=False)\n",
    "    chunks = [encoded_text[i:i+max_length] for i in range(0, len(encoded_text), max_length)]\n",
    "    return [tokenizer.build_inputs_with_special_tokens(chunk) for chunk in chunks]\n",
    "\n",
    "# Apply the splitting function\n",
    "encoded_chunks = [split_text_into_chunks(text, tokenizer) for text in all_data]\n",
    "encoded_chunks_flat = [item for sublist in encoded_chunks for item in sublist]\n",
    "token_lens = [len(chunk) for chunk in encoded_chunks_flat]\n",
    "\n",
    "# Plot the token lengths\n",
    "sns.displot(token_lens)\n",
    "plt.xlim([0, max(token_lens)])\n",
    "plt.xlabel('Token Count')\n",
    "plt.show()"
   ]
  },
  {
   "cell_type": "markdown",
   "metadata": {},
   "source": [
    "# Save Prep-data"
   ]
  },
  {
   "cell_type": "code",
   "execution_count": 41,
   "metadata": {},
   "outputs": [],
   "source": [
    "# data.to_excel(\"./data/data.xlsx\")"
   ]
  },
  {
   "cell_type": "code",
   "execution_count": 42,
   "metadata": {},
   "outputs": [
    {
     "data": {
      "image/png": "[encoded data removed]",
      "text/plain": [
       "<Figure size 500x500 with 1 Axes>"
      ]
     },
     "metadata": {},
     "output_type": "display_data"
    }
   ],
   "source": [
    "tokenizer = AutoTokenizer.from_pretrained(\"vinai/phobert-base\", use_fast=False)\n",
    "all_data = data['text']\n",
    "all_data = [' '.join(simple_preprocess(text)) for text in all_data]\n",
    "\n",
    "# Apply the splitting function\n",
    "encoded_chunks = [split_text_into_chunks(text, tokenizer) for text in all_data]\n",
    "encoded_chunks_flat = [item for sublist in encoded_chunks for item in sublist]\n",
    "token_lens = [len(chunk) for chunk in encoded_chunks_flat]\n",
    "\n",
    "# Plot the token lengths\n",
    "sns.displot(token_lens)\n",
    "plt.xlim([0, max(token_lens)])\n",
    "plt.xlabel('Token Count')\n",
    "plt.show()"
   ]
  },
  {
   "cell_type": "markdown",
   "metadata": {},
   "source": [
    "# Training - Using colab for training"
   ]
  },
  {
   "cell_type": "markdown",
   "metadata": {},
   "source": [
    "# Custom dataset"
   ]
  },
  {
   "cell_type": "code",
   "execution_count": 43,
   "metadata": {},
   "outputs": [],
   "source": [
    "class TextDataset(Dataset):\n",
    "    def __init__(self, df, tokenizer, max_len=256):\n",
    "        self.df = df\n",
    "        self.max_len = max_len\n",
    "        self.tokenizer = tokenizer\n",
    "\n",
    "    def __len__(self):\n",
    "        return len(self.df)\n",
    "\n",
    "    def __getitem__(self, index):\n",
    "        row = self.df.iloc[index]\n",
    "        text, label = self.get_input_data(row)\n",
    "\n",
    "        encoding = self.tokenizer.encode_plus(\n",
    "            text,\n",
    "            truncation=True,\n",
    "            add_special_tokens=True,\n",
    "            max_length=self.max_len,\n",
    "            padding='max_length',\n",
    "            return_attention_mask=True,\n",
    "            return_token_type_ids=False,\n",
    "            return_tensors='pt',\n",
    "        )\n",
    "\n",
    "        return {\n",
    "            'text': text,\n",
    "            'input_ids': encoding['input_ids'].flatten(),\n",
    "            'attention_masks': encoding['attention_mask'].flatten(),\n",
    "            'targets': torch.tensor(label, dtype=torch.long),\n",
    "        }\n",
    "\n",
    "    def labelencoder(self, text):\n",
    "        if text == '__label__KPA':\n",
    "            return 0\n",
    "        else:\n",
    "            return 1\n",
    "\n",
    "    def get_input_data(self, row):\n",
    "        text = row['text']\n",
    "        text = ' '.join(simple_preprocess(text))\n",
    "        label = self.labelencoder(row['label'])\n",
    "        return text, label"
   ]
  },
  {
   "cell_type": "code",
   "execution_count": 44,
   "metadata": {},
   "outputs": [
    {
     "name": "stdout",
     "output_type": "stream",
     "text": [
      "Tokenizer vocabulary size: 64000\n"
     ]
    }
   ],
   "source": [
    "tokenizer = AutoTokenizer.from_pretrained(\"vinai/phobert-base\")\n",
    "\n",
    "# Check tokenizer's vocabulary size\n",
    "print(f'Tokenizer vocabulary size: {tokenizer.vocab_size}')"
   ]
  },
  {
   "cell_type": "code",
   "execution_count": 45,
   "metadata": {},
   "outputs": [],
   "source": [
    "vocab_size = tokenizer.vocab_size\n",
    "\n",
    "def adjust_input_ids(input_ids, vocab_size):\n",
    "    return torch.where(input_ids < vocab_size, input_ids, torch.tensor(vocab_size-1).to(input_ids.device))\n",
    "\n",
    "def train(model, criterion, optimizer, train_loader, lr_scheduler):\n",
    "    model.train()\n",
    "    losses = []\n",
    "    correct = 0\n",
    "\n",
    "    for data in tqdm(train_loader):\n",
    "        input_ids = data['input_ids'].to(device)\n",
    "        attention_mask = data['attention_masks'].to(device)\n",
    "        targets = data['targets'].to(device)\n",
    "\n",
    "        # Adjust input_ids\n",
    "        input_ids = adjust_input_ids(input_ids, vocab_size)\n",
    "\n",
    "        optimizer.zero_grad()\n",
    "        outputs = model(\n",
    "            input_ids=input_ids,\n",
    "            attention_mask=attention_mask\n",
    "        )\n",
    "\n",
    "        logits = outputs\n",
    "\n",
    "        loss = criterion(logits, targets)\n",
    "\n",
    "        _, pred = torch.max(logits, dim=1)\n",
    "\n",
    "        correct += torch.sum(pred == targets)\n",
    "        losses.append(loss.item())\n",
    "        loss.backward()\n",
    "        nn.utils.clip_grad_norm_(model.parameters(), max_norm=1.0)\n",
    "        optimizer.step()\n",
    "\n",
    "    lr_scheduler.step()\n",
    "\n",
    "    epoch_loss = np.mean(losses)\n",
    "    epoch_acc = correct.double() / len(train_loader.dataset)\n",
    "\n",
    "    print(f'Train Accuracy: {epoch_acc} Loss: {epoch_loss}')\n",
    "    return epoch_loss, epoch_acc\n",
    "\n",
    "def evaluate(model, criterion, valid_loader):\n",
    "    model.eval()\n",
    "    losses = []\n",
    "    correct = 0\n",
    "\n",
    "    with torch.no_grad():\n",
    "        for data in tqdm(valid_loader, desc=\"Validation\"):\n",
    "            input_ids = data['input_ids'].to(device)\n",
    "            attention_mask = data['attention_masks'].to(device)\n",
    "            targets = data['targets'].to(device)\n",
    "\n",
    "            # Adjust input_ids\n",
    "            input_ids = adjust_input_ids(input_ids, vocab_size)\n",
    "\n",
    "            outputs = model(\n",
    "                input_ids=input_ids,\n",
    "                attention_mask=attention_mask\n",
    "            )\n",
    "\n",
    "            logits = outputs\n",
    "\n",
    "            loss = criterion(logits, targets)\n",
    "            _, pred = torch.max(logits, dim=1)\n",
    "            correct += torch.sum(pred == targets)\n",
    "            losses.append(loss.item())\n",
    "\n",
    "    epoch_loss = np.mean(losses)\n",
    "    epoch_acc = correct.double() / len(valid_loader.dataset)\n",
    "\n",
    "    print(f'Validation Accuracy: {epoch_acc} Loss: {epoch_loss}')\n",
    "    return epoch_loss, epoch_acc"
   ]
  },
  {
   "cell_type": "code",
   "execution_count": 46,
   "metadata": {},
   "outputs": [],
   "source": [
    "class TextClassifier(nn.Module):\n",
    "    def __init__(self, n_classes=2):\n",
    "        super(TextClassifier, self).__init__()\n",
    "        self.bert = AutoModelForSequenceClassification.from_pretrained(\"vinai/phobert-base\", num_labels=n_classes)\n",
    "        self.drop = nn.Dropout(p=0.3)\n",
    "\n",
    "    def forward(self, input_ids, attention_mask):\n",
    "        outputs = self.bert(\n",
    "            input_ids=input_ids,\n",
    "            attention_mask=attention_mask\n",
    "        )\n",
    "\n",
    "        logits = outputs.logits\n",
    "        x = self.drop(logits)\n",
    "        return x"
   ]
  },
  {
   "cell_type": "code",
   "execution_count": 47,
   "metadata": {},
   "outputs": [],
   "source": [
    "def plot_metrics(train_losses, train_accuracies, val_losses, val_accuracies, fold):\n",
    "    epochs = range(1, len(train_losses) + 1)\n",
    "\n",
    "    plt.figure(figsize=(12, 5))\n",
    "\n",
    "    plt.subplot(1, 2, 1)\n",
    "    plt.plot(epochs, train_losses, 'bo-', label='Training Loss')\n",
    "    plt.plot(epochs, val_losses, 'ro-', label='Validation Loss')\n",
    "    plt.title(f'Training and Validation Loss (Fold {fold})')\n",
    "    plt.xlabel('Epochs')\n",
    "    plt.ylabel('Loss')\n",
    "    plt.legend()\n",
    "\n",
    "    plt.subplot(1, 2, 2)\n",
    "    plt.plot(epochs, train_accuracies, 'bo-', label='Training Accuracy')\n",
    "    plt.plot(epochs, val_accuracies, 'ro-', label='Validation Accuracy')\n",
    "    plt.title(f'Training and Validation Accuracy (Fold {fold})')\n",
    "    plt.xlabel('Epochs')\n",
    "    plt.ylabel('Accuracy')\n",
    "    plt.legend()\n",
    "\n",
    "    plt.tight_layout()\n",
    "    plt.show()\n",
    "\n",
    "\n",
    "def kfold_cross_validation(df, k, device, EPOCHS, batch_size, max_len):\n",
    "    skf = StratifiedKFold(n_splits=k, shuffle=True, random_state=42)\n",
    "    fold_results = []\n",
    "\n",
    "    for fold, (train_idx, val_idx) in enumerate(skf.split(df, df['label'])):\n",
    "        print(f'Fold {fold+1}/{k}')\n",
    "\n",
    "        train_df = df.iloc[train_idx]\n",
    "        val_df = df.iloc[val_idx]\n",
    "\n",
    "        train_dataset = TextDataset(train_df, tokenizer, max_len)\n",
    "        val_dataset = TextDataset(val_df, tokenizer, max_len)\n",
    "\n",
    "        train_loader = DataLoader(train_dataset, batch_size=batch_size, shuffle=True)\n",
    "        val_loader = DataLoader(val_dataset, batch_size=batch_size, shuffle=False)\n",
    "\n",
    "        model = TextClassifier(n_classes=2)\n",
    "        model.to(device)\n",
    "\n",
    "        optimizer = AdamW(model.parameters(), lr=1e-5, weight_decay=1e-2)\n",
    "        criterion = nn.CrossEntropyLoss()\n",
    "        lr_scheduler = get_linear_schedule_with_warmup(\n",
    "            optimizer,\n",
    "            num_warmup_steps=0,\n",
    "            num_training_steps=len(train_loader) * EPOCHS\n",
    "        )\n",
    "\n",
    "        best_acc = 0\n",
    "        train_losses = []\n",
    "        train_accuracies = []\n",
    "        val_losses = []\n",
    "        val_accuracies = []\n",
    "\n",
    "        for epoch in range(EPOCHS):\n",
    "            print(f'Epoch {epoch+1}/{EPOCHS}')\n",
    "            print('-'*30)\n",
    "\n",
    "            train_loss, train_acc = train(model, criterion, optimizer, train_loader, lr_scheduler)\n",
    "            val_loss, val_acc = evaluate(model, criterion, val_loader)\n",
    "\n",
    "            train_losses.append(train_loss)\n",
    "            train_accuracies.append(train_acc.item())\n",
    "            val_losses.append(val_loss)\n",
    "            val_accuracies.append(val_acc.item())\n",
    "\n",
    "            if val_acc > best_acc:\n",
    "                torch.save(model.state_dict(), f'/content/drive/MyDrive/Saved_Model/{fold+1}.pth')\n",
    "                best_acc = val_acc\n",
    "\n",
    "        fold_results.append({\n",
    "            'fold': fold + 1,\n",
    "            'train_losses': train_losses,\n",
    "            'train_accuracies': train_accuracies,\n",
    "            'val_losses': val_losses,\n",
    "            'val_accuracies': val_accuracies,\n",
    "            'best_acc': best_acc\n",
    "        })\n",
    "\n",
    "        plot_metrics(train_losses, train_accuracies, val_losses, val_accuracies, fold+1)\n",
    "\n",
    "    return fold_results"
   ]
  },
  {
   "cell_type": "markdown",
   "metadata": {},
   "source": [
    "# Training"
   ]
  },
  {
   "cell_type": "code",
   "execution_count": 48,
   "metadata": {},
   "outputs": [],
   "source": [
    "# EPOCHS = 10\n",
    "# batch_size = 32\n",
    "# max_len = 256\n",
    "\n",
    "# device = torch.device('cuda:0' if torch.cuda.is_available() else 'cpu')\n",
    "\n",
    "# train_, test_data = train_test_split(data, test_size=0.2, random_state=42)\n",
    "# train_data, val_data = train_test_split(train_, test_size=0.2, random_state=42)\n",
    "\n",
    "# train_dataset = TextDataset(train_data, tokenizer, max_len)\n",
    "# valid_dataset = TextDataset(val_data, tokenizer, max_len)\n",
    "# test_dataset = TextDataset(test_data, tokenizer, max_len)\n",
    "\n",
    "# train_loader = DataLoader(train_dataset, batch_size=batch_size, shuffle=True)\n",
    "# valid_loader = DataLoader(valid_dataset, batch_size=batch_size, shuffle=True)\n",
    "# test_loader = DataLoader(test_dataset, batch_size=batch_size, shuffle=True)\n",
    "\n",
    "# # Perform k-fold cross-validation\n",
    "# k = 5  # Number of folds\n",
    "# results = kfold_cross_validation(data, k, device, EPOCHS, batch_size, max_len)\n",
    "\n",
    "# # Print results\n",
    "# for fold_result in results:\n",
    "#     print(f\"Fold {fold_result['fold']}:\")\n",
    "#     print(f\"  Best Validation Accuracy: {fold_result['best_acc']:.4f}\")\n",
    "#     print(f\"  Training Losses: {fold_result['train_losses']}\")\n",
    "#     print(f\"  Training Accuracies: {fold_result['train_accuracies']}\")\n",
    "#     print(f\"  Validation Losses: {fold_result['val_losses']}\")\n",
    "#     print(f\"  Validation Accuracies: {fold_result['val_accuracies']}\")\n",
    "#     print()"
   ]
  },
  {
   "cell_type": "code",
   "execution_count": null,
   "metadata": {},
   "outputs": [],
   "source": []
  }
 ],
 "metadata": {
  "kernelspec": {
   "display_name": "unclekhoa",
   "language": "python",
   "name": "python3"
  },
  "language_info": {
   "codemirror_mode": {
    "name": "ipython",
    "version": 3
   },
   "file_extension": ".py",
   "mimetype": "text/x-python",
   "name": "python",
   "nbconvert_exporter": "python",
   "pygments_lexer": "ipython3",
   "version": "3.12.4"
  }
 },
 "nbformat": 4,
 "nbformat_minor": 2
}
