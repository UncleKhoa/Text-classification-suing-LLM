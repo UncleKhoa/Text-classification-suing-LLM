{
 "cells": [
  {
   "cell_type": "code",
   "execution_count": 2,
   "metadata": {},
   "outputs": [],
   "source": [
    "import pandas as pd\n",
    "import re\n",
    "import os\n",
    "import spacy\n",
    "from scipy import constants\n",
    "from nltk.tokenize import word_tokenize\n",
    "from nltk.translate import AlignedSent\n",
    "from nltk.translate import IBMModel1\n",
    "from tqdm import tqdm\n",
    "from spacy.matcher import PhraseMatcher\n",
    "from collections import Counter\n",
    "import matplotlib.pyplot as plt\n",
    "import seaborn as sns\n",
    "from collections import Counter\n",
    "import textwrap\n",
    "from nltk.tokenize import word_tokenize, RegexpTokenizer\n",
    "from nltk.corpus import stopwords\n",
    "import openai\n",
    "from sklearn.model_selection import train_test_split\n",
    "from transformers import AutoModelForSequenceClassification, AutoTokenizer, get_linear_schedule_with_warmup, pipeline, AutoModelForTokenClassification\n",
    "import torch\n",
    "import torch.nn as nn\n",
    "from torch.utils.data import DataLoader, TensorDataset, SequentialSampler, Dataset\n",
    "from gensim.utils import simple_preprocess\n",
    "from sklearn.metrics import accuracy_score, precision_score, recall_score, f1_score, confusion_matrix, precision_recall_fscore_support, ConfusionMatrixDisplay, classification_report"
   ]
  },
  {
   "cell_type": "code",
   "execution_count": 3,
   "metadata": {},
   "outputs": [],
   "source": [
    "data = pd.read_excel(\"./data/data.xlsx\", engine=\"openpyxl\")"
   ]
  },
  {
   "cell_type": "code",
   "execution_count": 4,
   "metadata": {},
   "outputs": [
    {
     "data": {
      "text/plain": [
       "Index(['Unnamed: 0', 'label', 'text'], dtype='object')"
      ]
     },
     "execution_count": 4,
     "metadata": {},
     "output_type": "execute_result"
    }
   ],
   "source": [
    "data.columns"
   ]
  },
  {
   "cell_type": "code",
   "execution_count": 5,
   "metadata": {},
   "outputs": [],
   "source": [
    "data.drop(columns=\"Unnamed: 0\",axis=1, inplace=True)"
   ]
  },
  {
   "cell_type": "code",
   "execution_count": 6,
   "metadata": {},
   "outputs": [],
   "source": [
    "train_, test_data = train_test_split(data, test_size=0.2, random_state=42, shuffle=True)\n",
    "train_data, val_data = train_test_split(train_, test_size=0.2, random_state=42, shuffle=True)"
   ]
  },
  {
   "cell_type": "code",
   "execution_count": 7,
   "metadata": {},
   "outputs": [
    {
     "data": {
      "text/html": [
       "<div>\n",
       "<style scoped>\n",
       "    .dataframe tbody tr th:only-of-type {\n",
       "        vertical-align: middle;\n",
       "    }\n",
       "\n",
       "    .dataframe tbody tr th {\n",
       "        vertical-align: top;\n",
       "    }\n",
       "\n",
       "    .dataframe thead th {\n",
       "        text-align: right;\n",
       "    }\n",
       "</style>\n",
       "<table border=\"1\" class=\"dataframe\">\n",
       "  <thead>\n",
       "    <tr style=\"text-align: right;\">\n",
       "      <th></th>\n",
       "      <th>label</th>\n",
       "      <th>text</th>\n",
       "    </tr>\n",
       "  </thead>\n",
       "  <tbody>\n",
       "    <tr>\n",
       "      <th>2010</th>\n",
       "      <td>__label__PA</td>\n",
       "      <td>tên nguyễn_việt_cường xin phản_ánh toàn công_c...</td>\n",
       "    </tr>\n",
       "    <tr>\n",
       "      <th>2083</th>\n",
       "      <td>__label__PA</td>\n",
       "      <td>hộ văn châu địa ấp xuân_hòa 1 xã vĩnh_đông huy...</td>\n",
       "    </tr>\n",
       "    <tr>\n",
       "      <th>2398</th>\n",
       "      <td>__label__PA</td>\n",
       "      <td>kính gửi cổng thông_tin điện_tử long_an vấn_đề...</td>\n",
       "    </tr>\n",
       "    <tr>\n",
       "      <th>2302</th>\n",
       "      <td>__label__KPA</td>\n",
       "      <td>gởi báo_cáo vi ohajm khá lâu trả_lời</td>\n",
       "    </tr>\n",
       "    <tr>\n",
       "      <th>792</th>\n",
       "      <td>__label__KPA</td>\n",
       "      <td>tên lê_thị_kim_ngân sinh 1995 hôm_nay xin gửi ...</td>\n",
       "    </tr>\n",
       "  </tbody>\n",
       "</table>\n",
       "</div>"
      ],
      "text/plain": [
       "             label                                               text\n",
       "2010   __label__PA  tên nguyễn_việt_cường xin phản_ánh toàn công_c...\n",
       "2083   __label__PA  hộ văn châu địa ấp xuân_hòa 1 xã vĩnh_đông huy...\n",
       "2398   __label__PA  kính gửi cổng thông_tin điện_tử long_an vấn_đề...\n",
       "2302  __label__KPA               gởi báo_cáo vi ohajm khá lâu trả_lời\n",
       "792   __label__KPA  tên lê_thị_kim_ngân sinh 1995 hôm_nay xin gửi ..."
      ]
     },
     "execution_count": 7,
     "metadata": {},
     "output_type": "execute_result"
    }
   ],
   "source": [
    "test_data.head(5)"
   ]
  },
  {
   "cell_type": "code",
   "execution_count": 8,
   "metadata": {},
   "outputs": [],
   "source": [
    "class TextDataset(Dataset):\n",
    "    def __init__(self, df, tokenizer, max_len=258):\n",
    "        self.df = df\n",
    "        self.max_len = max_len\n",
    "        self.tokenizer = tokenizer\n",
    "    \n",
    "    def __len__(self):\n",
    "        return len(self.df)\n",
    "\n",
    "    def __getitem__(self, index):\n",
    "        \"\"\"\n",
    "        To customize dataset, inherit from Dataset class and implement\n",
    "        __len__ & __getitem__\n",
    "        __getitem__ should return \n",
    "            data:\n",
    "                input_ids\n",
    "                attention_masks\n",
    "                text\n",
    "                targets\n",
    "        \"\"\"\n",
    "        row = self.df.iloc[index]\n",
    "        text, label = self.get_input_data(row)\n",
    "\n",
    "        # Encode_plus will:\n",
    "        # (1) split text into token\n",
    "        # (2) Add the '[CLS]' and '[SEP]' token to the start and end\n",
    "        # (3) Truncate/Pad sentence to max length\n",
    "        # (4) Map token to their IDS\n",
    "        # (5) Create attention mask\n",
    "        # (6) Return a dictionary of outputs\n",
    "        encoding = self.tokenizer.encode_plus(\n",
    "            text,\n",
    "            truncation=True,\n",
    "            add_special_tokens=True,\n",
    "            max_length=self.max_len,\n",
    "            padding='max_length',\n",
    "            return_attention_mask=True,\n",
    "            return_token_type_ids=False,\n",
    "            return_tensors='pt',\n",
    "        )\n",
    "        \n",
    "        return {\n",
    "            'text': text,\n",
    "            'input_ids': encoding['input_ids'].flatten(),\n",
    "            'attention_masks': encoding['attention_mask'].flatten(),\n",
    "            'targets': torch.tensor(label, dtype=torch.long),\n",
    "        }\n",
    "\n",
    "\n",
    "    def labelencoder(self,text):\n",
    "        if text=='__label__KPA':\n",
    "            return 0\n",
    "        else:\n",
    "            return 1\n",
    "\n",
    "    def get_input_data(self, row):\n",
    "        # Preprocessing: {remove icon, special character, lower}\n",
    "        text = row['text']\n",
    "        text = ' '.join(simple_preprocess(text))\n",
    "        label = self.labelencoder(row['label'])\n",
    "\n",
    "        return text, label"
   ]
  },
  {
   "cell_type": "code",
   "execution_count": 9,
   "metadata": {},
   "outputs": [],
   "source": [
    "class TextClassifier(nn.Module):\n",
    "    def __init__(self, n_classes):\n",
    "        super(TextClassifier, self).__init__()\n",
    "        self.bert = AutoModelForSequenceClassification.from_pretrained(\"vinai/phobert-base\", num_labels=n_classes)\n",
    "        self.drop = nn.Dropout(p=0.3)\n",
    "\n",
    "    def forward(self, input_ids, attention_mask):\n",
    "        outputs = self.bert(\n",
    "            input_ids=input_ids,\n",
    "            attention_mask=attention_mask\n",
    "        )\n",
    "\n",
    "        logits = outputs.logits\n",
    "        x = self.drop(logits)\n",
    "        return x"
   ]
  },
  {
   "cell_type": "code",
   "execution_count": 10,
   "metadata": {},
   "outputs": [
    {
     "name": "stderr",
     "output_type": "stream",
     "text": [
      "Some weights of RobertaForSequenceClassification were not initialized from the model checkpoint at vinai/phobert-base and are newly initialized: ['classifier.dense.bias', 'classifier.dense.weight', 'classifier.out_proj.bias', 'classifier.out_proj.weight']\n",
      "You should probably TRAIN this model on a down-stream task to be able to use it for predictions and inference.\n",
      "C:\\Users\\BonNguyen\\AppData\\Local\\Temp\\ipykernel_30704\\3749229311.py:13: FutureWarning: You are using `torch.load` with `weights_only=False` (the current default value), which uses the default pickle module implicitly. It is possible to construct malicious pickle data which will execute arbitrary code during unpickling (See https://github.com/pytorch/pytorch/blob/main/SECURITY.md#untrusted-models for more details). In a future release, the default value for `weights_only` will be flipped to `True`. This limits the functions that could be executed during unpickling. Arbitrary objects will no longer be allowed to be loaded via this mode unless they are explicitly allowlisted by the user via `torch.serialization.add_safe_globals`. We recommend you start setting `weights_only=True` for any use case where you don't have full control of the loaded file. Please open an issue on GitHub for any issues related to this experimental feature.\n",
      "  model.load_state_dict(torch.load(load_path, map_location=device))\n"
     ]
    }
   ],
   "source": [
    "os.environ[\"CUDA_LAUNCH_BLOCKING\"] = \"1\"\n",
    "\n",
    "# Clear GPU cache\n",
    "torch.cuda.empty_cache()\n",
    "\n",
    "model = TextClassifier(n_classes=2)\n",
    "load_path = './results/5.pth'\n",
    "\n",
    "# Load the state dictionary into the model\n",
    "device = torch.device('cuda' if torch.cuda.is_available() else 'cpu')\n",
    "\n",
    "# Load the model's state dict onto the specified device\n",
    "model.load_state_dict(torch.load(load_path, map_location=device))\n",
    "model.eval()\n",
    "\n",
    "# Function to get predictions\n",
    "# def predict(model, dataloader):\n",
    "#     model.eval()\n",
    "#     predictions = []\n",
    "\n",
    "#     with torch.no_grad():\n",
    "#         for batch in dataloader:\n",
    "#             input_ids = batch['input_ids']\n",
    "#             attention_masks = batch['attention_masks']\n",
    "#             outputs = model(input_ids, attention_masks)\n",
    "#             preds = torch.argmax(outputs, dim=1)\n",
    "#             predictions.extend(preds.cpu().numpy())\n",
    "\n",
    "#     return predictions\n",
    "\n",
    "global cm\n",
    "\n",
    "def test(data_loader, n_classes):\n",
    "    models = []\n",
    "    device = torch.device('cuda' if torch.cuda.is_available() else 'cpu')\n",
    "\n",
    "    # Load individual models trained on separate folds\n",
    "    model = TextClassifier(n_classes=n_classes)  # Adjust as per your model architecture\n",
    "    model.to(device)\n",
    "    model.load_state_dict(torch.load(f'./results/5.pth', map_location=device))\n",
    "    model.eval()\n",
    "    models.append(model)\n",
    "\n",
    "    texts = []\n",
    "    predicts = []\n",
    "    predict_probs = []\n",
    "    real_values = []\n",
    "\n",
    "    # Iterate over data loader\n",
    "    for data in data_loader:\n",
    "        text = data['text']\n",
    "        input_ids = data['input_ids'].to(device)\n",
    "        attention_mask = data['attention_masks'].to(device)\n",
    "        targets = data['targets'].to(device)\n",
    "\n",
    "        total_outs = []\n",
    "\n",
    "        # Predict with each model and aggregate predictions\n",
    "        for model in models:\n",
    "            with torch.no_grad():\n",
    "                outputs = model(input_ids=input_ids, attention_mask=attention_mask)\n",
    "                total_outs.append(outputs)\n",
    "\n",
    "        total_outs = torch.stack(total_outs)\n",
    "        _, pred = torch.max(total_outs.mean(0), dim=1)\n",
    "\n",
    "        # Collect predictions and true values\n",
    "        texts.extend(text)\n",
    "        predicts.extend(pred.cpu())\n",
    "        predict_probs.extend(total_outs.mean(0).cpu())\n",
    "        real_values.extend(targets.cpu())\n",
    "    \n",
    "    # Convert lists to tensors\n",
    "    predicts = torch.stack(predicts)\n",
    "    predict_probs = torch.stack(predict_probs)\n",
    "    real_values = torch.stack(real_values)\n",
    "\n",
    "    # Calculate metrics\n",
    "    accuracy = accuracy_score(real_values, predicts)\n",
    "    precision, recall, f1, _ = precision_recall_fscore_support(real_values, predicts, average='weighted')\n",
    "\n",
    "    # Print metrics\n",
    "    print(f'Accuracy: {accuracy:.4f}')\n",
    "    print(f'Precision: {precision:.4f}')\n",
    "    print(f'Recall: {recall:.4f}')\n",
    "    print(f'F1-score: {f1:.4f}')\n",
    "\n",
    "    cm = confusion_matrix(real_values, predicts)\n",
    "    print('Confusion Matrix:')\n",
    "    print(cm)\n",
    "\n",
    "    plt.figure(figsize=(8, 6))\n",
    "    sns.heatmap(cm, annot=True, fmt='d', cmap='Blues', \n",
    "                xticklabels=['__label__KPA', '__label__PA'], \n",
    "                yticklabels=['__label__KPA', '__label__PA'])\n",
    "    plt.xlabel('Predicted')\n",
    "    plt.ylabel('Actual')\n",
    "    plt.title('Confusion Matrix')\n",
    "    plt.show()\n",
    "\n",
    "    # Return true values and predictions for further analysis if needed\n",
    "    return real_values, predicts"
   ]
  },
  {
   "cell_type": "code",
   "execution_count": 11,
   "metadata": {},
   "outputs": [],
   "source": [
    "tokenizer = AutoTokenizer.from_pretrained(\"vinai/phobert-base\")"
   ]
  },
  {
   "cell_type": "code",
   "execution_count": 12,
   "metadata": {},
   "outputs": [],
   "source": [
    "train_, test_data = train_test_split(data, test_size=0.2, random_state=42)\n",
    "train_data, val_data = train_test_split(train_, test_size=0.2, random_state=42)\n",
    "\n",
    "train_dataset = TextDataset(train_data, tokenizer, max_len=256)\n",
    "valid_dataset = TextDataset(val_data, tokenizer, max_len=256)\n",
    "test_dataset = TextDataset(test_data, tokenizer, max_len=256)\n",
    "\n",
    "train_loader = DataLoader(train_dataset, batch_size=8, shuffle=True)\n",
    "valid_loader = DataLoader(valid_dataset, batch_size=8, shuffle=True)\n",
    "test_loader = DataLoader(test_dataset, batch_size=8, shuffle=True)"
   ]
  },
  {
   "cell_type": "code",
   "execution_count": 13,
   "metadata": {},
   "outputs": [
    {
     "data": {
      "text/plain": [
       "label\n",
       "__label__PA     262\n",
       "__label__KPA    221\n",
       "Name: count, dtype: int64"
      ]
     },
     "execution_count": 13,
     "metadata": {},
     "output_type": "execute_result"
    }
   ],
   "source": [
    "test_data[\"label\"].value_counts()"
   ]
  },
  {
   "cell_type": "code",
   "execution_count": 14,
   "metadata": {},
   "outputs": [],
   "source": [
    "# plt.figure(figsize=(10, 6))\n",
    "# ax = sns.countplot(x=\"label\", data=train_data)\n",
    "\n",
    "# # Add value labels on each bar\n",
    "# for p in ax.patches:\n",
    "#     ax.annotate(f'{p.get_height()}', (p.get_x() + p.get_width() / 2., p.get_height()), \n",
    "#                 ha='center', va='baseline', fontsize=12, color='black', xytext=(0, 5), \n",
    "#                 textcoords='offset points')\n",
    "\n",
    "# # Display the plot\n",
    "# plt.show()"
   ]
  },
  {
   "cell_type": "code",
   "execution_count": 15,
   "metadata": {},
   "outputs": [],
   "source": [
    "# true_labels = test_data['label'].apply(lambda x: 0 if x == '__label__KPA' else 1).values\n",
    "\n",
    "# # Calculate classification metrics\n",
    "# report = classification_report(true_labels, predictions, target_names=['__label__KPA', '__label__PA'])\n",
    "# accuracy = accuracy_score(true_labels, predictions)\n",
    "# conf_matrix = confusion_matrix(true_labels, predictions)\n",
    "\n",
    "# # Print classification report, accuracy, and confusion matrix\n",
    "# print(\"Classification Report:\\n\", report)\n",
    "# print(\"\\nAccuracy:\", accuracy)\n",
    "# print(\"\\nConfusion Matrix:\\n\", conf_matrix)"
   ]
  },
  {
   "cell_type": "code",
   "execution_count": 16,
   "metadata": {},
   "outputs": [
    {
     "name": "stderr",
     "output_type": "stream",
     "text": [
      "Some weights of RobertaForSequenceClassification were not initialized from the model checkpoint at vinai/phobert-base and are newly initialized: ['classifier.dense.bias', 'classifier.dense.weight', 'classifier.out_proj.bias', 'classifier.out_proj.weight']\n",
      "You should probably TRAIN this model on a down-stream task to be able to use it for predictions and inference.\n",
      "C:\\Users\\BonNguyen\\AppData\\Local\\Temp\\ipykernel_30704\\3749229311.py:40: FutureWarning: You are using `torch.load` with `weights_only=False` (the current default value), which uses the default pickle module implicitly. It is possible to construct malicious pickle data which will execute arbitrary code during unpickling (See https://github.com/pytorch/pytorch/blob/main/SECURITY.md#untrusted-models for more details). In a future release, the default value for `weights_only` will be flipped to `True`. This limits the functions that could be executed during unpickling. Arbitrary objects will no longer be allowed to be loaded via this mode unless they are explicitly allowlisted by the user via `torch.serialization.add_safe_globals`. We recommend you start setting `weights_only=True` for any use case where you don't have full control of the loaded file. Please open an issue on GitHub for any issues related to this experimental feature.\n",
      "  model.load_state_dict(torch.load(f'./results/5.pth', map_location=device))\n"
     ]
    },
    {
     "name": "stdout",
     "output_type": "stream",
     "text": [
      "Accuracy: 0.9193\n",
      "Precision: 0.9193\n",
      "Recall: 0.9193\n",
      "F1-score: 0.9192\n",
      "Confusion Matrix:\n",
      "[[199  22]\n",
      " [ 17 245]]\n"
     ]
    },
    {
     "data": {
      "image/png": "[encoded data removed]",
      "text/plain": [
       "<Figure size 800x600 with 2 Axes>"
      ]
     },
     "metadata": {},
     "output_type": "display_data"
    }
   ],
   "source": [
    "predicts = test(test_loader, n_classes=2)"
   ]
  },
  {
   "cell_type": "code",
   "execution_count": 17,
   "metadata": {},
   "outputs": [],
   "source": [
    "# def load_model(model_path, n_classes):\n",
    "#     model = TextClassifier(n_classes)\n",
    "#     model.load_state_dict(torch.load(model_path, map_location=torch.device('cpu')))\n",
    "#     return model\n",
    "\n",
    "# def predict_single_text(text, model, tokenizer, max_len, device):\n",
    "#     model.eval()\n",
    "#     inputs = tokenizer(text, max_length=max_len, truncation=True, padding='max_length', return_tensors='pt')\n",
    "#     inputs = {key: inputs[key].to(device) for key in inputs}\n",
    "\n",
    "#     with torch.no_grad():\n",
    "#         outputs = model(**inputs)\n",
    "\n",
    "#     logits = outputs.logits\n",
    "#     predicted_labels = torch.argmax(logits, dim=1)\n",
    "#     return predicted_labels.item()\n",
    "\n",
    "# # Example usage:\n",
    "# text_to_predict = \"huỳnh_tuấn chủ đất 210 tờ đồ 15 phản_ánh hộ dân nguyễn_văn_gương đất 261 tờ đồ 15 hộ nguyễn_văn_tài đất 279 tờ đồ 15 ấp đá biên xã thạnh_phước huyện thạnh_hoá tỉnh long_an tự lắp kênh công_cộng nội_đồng trái_phép sử_dụng gây khó_khăn hộ dân sản_xuất kinh_doanh ảnh_hưởng năng_suất vụ mùa kính mong quyền chức_trách chuyên_môn cấp tỉnh cấp huyện_đạo đôn_đốc xử_lý vi_phạm hộ dân đúng qui_định pháp_luật\"\n",
    "# model_path = './results/5.pth'  # Update with your actual model path\n",
    "# device = torch.device('cuda' if torch.cuda.is_available() else 'cpu')\n",
    "# max_len = 512  # Adjust based on your tokenizer's maximum length\n",
    "\n",
    "# # Load the model\n",
    "# model = load_model(model_path, n_classes=2)  # Assuming 2 classes\n",
    "\n",
    "# # Load tokenizer\n",
    "# tokenizer = AutoTokenizer.from_pretrained(\"vinai/phobert-base\")\n",
    "\n",
    "# # Perform prediction\n",
    "# predicted_label = predict_single_text(text_to_predict, model, tokenizer, max_len, device)\n",
    "# print(f\"Predicted Label Index: {predicted_label}\")"
   ]
  },
  {
   "cell_type": "markdown",
   "metadata": {},
   "source": [
    "# Model training with __label__KPA: 0 & __label__PA: 1"
   ]
  },
  {
   "cell_type": "code",
   "execution_count": 18,
   "metadata": {},
   "outputs": [],
   "source": [
    "class_names = ['KPA','PA']\n",
    "device = torch.device('cuda' if torch.cuda.is_available() else 'cpu')"
   ]
  },
  {
   "cell_type": "code",
   "execution_count": 19,
   "metadata": {},
   "outputs": [],
   "source": [
    "def infer(text, tokenizer, max_len=258):\n",
    "    encoded_review = tokenizer.encode_plus(\n",
    "        text,\n",
    "        max_length=max_len,\n",
    "        truncation=True,\n",
    "        add_special_tokens=True,\n",
    "        padding='max_length',\n",
    "        return_attention_mask=True,\n",
    "        return_token_type_ids=False,\n",
    "        return_tensors='pt',\n",
    "    )\n",
    "\n",
    "    input_ids = encoded_review['input_ids'].to(device)\n",
    "    attention_mask = encoded_review['attention_mask'].to(device)\n",
    "\n",
    "    output = model(input_ids, attention_mask)\n",
    "    _, y_pred = torch.max(output, dim=1)\n",
    "\n",
    "    print(y_pred)\n",
    "\n",
    "    print(f'Text: {text}')\n",
    "    print(f'Label: {class_names[y_pred]}')"
   ]
  },
  {
   "cell_type": "code",
   "execution_count": 1,
   "metadata": {},
   "outputs": [
    {
     "ename": "NameError",
     "evalue": "name 'infer' is not defined",
     "output_type": "error",
     "traceback": [
      "\u001b[1;31m---------------------------------------------------------------------------\u001b[0m",
      "\u001b[1;31mNameError\u001b[0m                                 Traceback (most recent call last)",
      "Cell \u001b[1;32mIn[1], line 2\u001b[0m\n\u001b[0;32m      1\u001b[0m text_to_predict \u001b[38;5;241m=\u001b[39m \u001b[38;5;124m\"\u001b[39m\u001b[38;5;124mgửi ban giám hiệu trườg thcs thuận thành, tui thấy chương trình học lớp 6 năm nay học bsang, mà trường xếp thời khóa biểu trái buổi chỉ học 1 tiết, 1 tuần 2 ngày như vây tôi thấy rất khó khăn cho viẹc đưa rước hs, vì hầu hết cha mẹ làm công nhân phải thuê người đưa rước rất tốn kém, nên tôi rất tha thiết trường sắp xếp dồn vào 1 buổi hoặc đôn lên những buổi sáng học có 3 tiết.\u001b[39m\u001b[38;5;124m\"\u001b[39m\n\u001b[1;32m----> 2\u001b[0m \u001b[43minfer\u001b[49m(text_to_predict,tokenizer)\n",
      "\u001b[1;31mNameError\u001b[0m: name 'infer' is not defined"
     ]
    }
   ],
   "source": [
    "text_to_predict = \"gửi ban giám hiệu trườg thcs thuận thành, tui thấy chương trình học lớp 6 năm nay học bsang, mà trường xếp thời khóa biểu trái buổi chỉ học 1 tiết, 1 tuần 2 ngày như vây tôi thấy rất khó khăn cho viẹc đưa rước hs, vì hầu hết cha mẹ làm công nhân phải thuê người đưa rước rất tốn kém, nên tôi rất tha thiết trường sắp xếp dồn vào 1 buổi hoặc đôn lên những buổi sáng học có 3 tiết.\"\n",
    "infer(text_to_predict,tokenizer)"
   ]
  },
  {
   "cell_type": "code",
   "execution_count": null,
   "metadata": {},
   "outputs": [],
   "source": []
  }
 ],
 "metadata": {
  "kernelspec": {
   "display_name": "unclekhoa",
   "language": "python",
   "name": "python3"
  },
  "language_info": {
   "codemirror_mode": {
    "name": "ipython",
    "version": 3
   },
   "file_extension": ".py",
   "mimetype": "text/x-python",
   "name": "python",
   "nbconvert_exporter": "python",
   "pygments_lexer": "ipython3",
   "version": "3.12.4"
  }
 },
 "nbformat": 4,
 "nbformat_minor": 2
}
